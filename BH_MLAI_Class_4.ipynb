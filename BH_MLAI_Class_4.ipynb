{
 "cells": [
  {
   "cell_type": "markdown",
   "id": "b094dcde",
   "metadata": {},
   "source": [
    "# Week 4\n",
    "* Joins\n",
    "* Visualizations ( Scatterplots, Histograms, and Distribution Plots,Violin, Box,)\n",
    "* +String Operators\n",
    "* Data Cleaning\n",
    "* More EDA"
   ]
  },
  {
   "cell_type": "code",
   "execution_count": null,
   "id": "d32b041a",
   "metadata": {},
   "outputs": [],
   "source": [
    "# Importing necessary libraries and modules\n",
    "import plotly.express as px\n",
    "import pandas as pd\n",
    "import numpy as np\n",
    "import matplotlib.pyplot as plt\n",
    "import seaborn as sns\n",
    "from IPython.display import display\n",
    "import os\n",
    "import geopandas as gpd\n",
    "from keplergl import KeplerGl\n",
    "import plotly.figure_factory as ff"
   ]
  },
  {
   "cell_type": "code",
   "execution_count": null,
   "id": "7fa15d3d",
   "metadata": {},
   "outputs": [],
   "source": [
    "# Import pandas\n",
    "import pandas as pd\n",
    "\n",
    "# Create the first DataFrame: employees\n",
    "employees = pd.DataFrame({\n",
    "    'Employee_ID': [101, 102, 103, 104],\n",
    "    'Name': ['Alice', 'Bob', 'Charlie', 'David'],\n",
    "    'Salary': [3500, 4200, 1200, 830]\n",
    "})\n",
    "\n",
    "# Create the second DataFrame: departments\n",
    "departments = pd.DataFrame({\n",
    "    'Employee_ID': [101, 102, 104, 105],\n",
    "    'Department': ['HR', 'Finance', 'IT','Marketing'],\n",
    "    'Job_Level': ['5', '4', '2', '1']\n",
    "})\n",
    "display(employees)\n",
    "display(departments)\n"
   ]
  },
  {
   "cell_type": "code",
   "execution_count": null,
   "id": "308bcda0",
   "metadata": {},
   "outputs": [],
   "source": [
    "# Perform an inner join on 'Employee_ID' (default behavior)\n",
    "merged_data = pd.merge(employees, departments, on='Employee_ID')\n",
    "\n",
    "# Display the result\n",
    "merged_data"
   ]
  },
  {
   "cell_type": "code",
   "execution_count": null,
   "id": "3872dd2c",
   "metadata": {},
   "outputs": [],
   "source": [
    "# Perform an inner join on 'Employee_ID' (default behavior)\n",
    "merged_data = pd.merge(employees, departments, on='Employee_ID', how='inner')\n",
    "\n",
    "# Display the result\n",
    "merged_data"
   ]
  },
  {
   "cell_type": "code",
   "execution_count": null,
   "id": "7aaf459e",
   "metadata": {},
   "outputs": [],
   "source": [
    "# Perform an outer join on 'Employee_ID' , \n",
    "merged_data = pd.merge(employees, departments, on='Employee_ID', how='outer')\n",
    "\n",
    "# Display the result\n",
    "merged_data"
   ]
  },
  {
   "cell_type": "code",
   "execution_count": null,
   "id": "2ce2f9a2",
   "metadata": {},
   "outputs": [],
   "source": [
    "# Perform an left join on 'Employee_ID'\n",
    "# In this case you will fetch all employees even if they dont have a department assigned \n",
    "merged_data = pd.merge(employees, departments, on='Employee_ID', how='left')\n",
    "\n",
    "# Display the result\n",
    "merged_data"
   ]
  },
  {
   "cell_type": "code",
   "execution_count": null,
   "id": "5a57e2e9",
   "metadata": {},
   "outputs": [],
   "source": [
    "# Perform an right join on 'Employee_ID'\n",
    "# In this case you will fetch all departments even if there is no employees there \n",
    "merged_data = pd.merge(employees, departments, on='Employee_ID', how='right')\n",
    "\n",
    "# Display the result\n",
    "merged_data"
   ]
  },
  {
   "cell_type": "code",
   "execution_count": null,
   "id": "2a917eba",
   "metadata": {},
   "outputs": [],
   "source": [
    "px.bar(merged_data, x = \"Department\", y = \"Salary\", color = \"Job_Level\")"
   ]
  },
  {
   "cell_type": "code",
   "execution_count": null,
   "id": "e182065c",
   "metadata": {},
   "outputs": [],
   "source": [
    "merged_data.rename(columns = {\"Employee_ID\" : \"Employee_No\"})"
   ]
  },
  {
   "cell_type": "code",
   "execution_count": null,
   "id": "3cb5240a",
   "metadata": {},
   "outputs": [],
   "source": [
    "merged_data.columns = ['Employee_No','Employee_Name','Employee_Salary','Employee_Department','Employee_Level']\n",
    "merged_data"
   ]
  },
  {
   "cell_type": "code",
   "execution_count": null,
   "id": "8be6ad4e",
   "metadata": {},
   "outputs": [],
   "source": [
    "#outer join with data cleansing\n",
    "\n",
    "# Perform a left join to combine employees and departments\n",
    "combined = pd.merge(employees, departments, on='Employee_ID', how='outer')\n",
    "\n",
    "# Replace missing numerical values with the median\n",
    "for column in combined.select_dtypes(include=['float64', 'int64']).columns:\n",
    "    combined[column].fillna(combined[column].median(), inplace=True)\n",
    "\n",
    "# Replace missing string values with \"Unknown\"\n",
    "for column in combined.select_dtypes(include=['object']).columns:\n",
    "    combined[column].fillna(\"Unknown\", inplace=True)\n",
    "\n",
    "# Display the cleaned DataFrame\n",
    "display(combined)"
   ]
  },
  {
   "cell_type": "code",
   "execution_count": null,
   "id": "b7033aba",
   "metadata": {},
   "outputs": [],
   "source": [
    "#join on multiple columns\n",
    "\n",
    "# Create the first DataFrame: employees\n",
    "employees = pd.DataFrame({\n",
    "    'Employee_ID': [101, 102, 103, 104],\n",
    "    'Department': ['HR', 'Finance', 'IT', 'IT'],\n",
    "    'Name': ['Alice', 'Bob', 'Charlie', 'David']\n",
    "})\n",
    "\n",
    "# Create the second DataFrame: departments\n",
    "departments = pd.DataFrame({\n",
    "    'Employee_ID': [101, 102, 104],\n",
    "    'Department': ['HR', 'Finance', 'IT'],\n",
    "    'Job_Level': ['5', '4', '2']\n",
    "})\n",
    "\n",
    "# Perform a merge on multiple columns\n",
    "merged = pd.merge(employees, departments, on=['Employee_ID', 'Department'], how='inner')\n",
    "\n",
    "# Display the result\n",
    "print(\"Merged DataFrame:\")\n",
    "merged\n"
   ]
  },
  {
   "cell_type": "code",
   "execution_count": null,
   "id": "6866bf41",
   "metadata": {},
   "outputs": [],
   "source": [
    "# append was deprecated do not confuse merge with concat\n",
    "\n",
    "# DataFrame 1\n",
    "df1 = pd.DataFrame({'ID': [1, 2, 3], 'Name': ['Alice', 'Bob', 'Charlie']})\n",
    "\n",
    "# DataFrame 2\n",
    "df2 = pd.DataFrame({'ID': [4, 5], 'Name': ['David', 'Eve']})\n",
    "\n",
    "# Append DataFrames using pd.concat\n",
    "appended_df = pd.concat([df1, df2]).reset_index(drop=True)\n",
    "\n",
    "appended_df\n"
   ]
  },
  {
   "cell_type": "markdown",
   "id": "53289316",
   "metadata": {},
   "source": [
    "# Advanced Visualizations"
   ]
  },
  {
   "cell_type": "code",
   "execution_count": null,
   "id": "f9ffda17",
   "metadata": {},
   "outputs": [],
   "source": [
    "# Step 1: Load GDP, Life Expectancy, Population, and Continents Datasets\n",
    "gdp_data = pd.read_csv('gdp.csv')\n",
    "life_expectancy_data = pd.read_csv('life_expectancy.csv')\n",
    "population_data = pd.read_csv('population.csv')\n",
    "continents_data = pd.read_csv('continents.csv') \n",
    "\n",
    "# Rename columns for clarity\n",
    "gdp_data.rename(columns={\"GDP (constant 2010 US$)\": \"GDP\"}, inplace=True)\n",
    "life_expectancy_data.rename(columns={\"Life expectancy\": \"Life_Expectancy\"}, inplace=True)\n",
    "population_data.rename(columns={\"Total population (Gapminder, HYDE & UN)\": \"Population\"}, inplace=True)\n",
    "continents_data.rename(columns={\"Country\": \"Entity\"}, inplace=True)  # Match 'Entity' column for merging\n",
    "\n",
    "# Step 2: Merge the datasets on Entity, Code, and Year\n",
    "merged_data = pd.merge(gdp_data, life_expectancy_data, on=[\"Entity\", \"Code\", \"Year\"], how=\"inner\")\n",
    "merged_data = pd.merge(merged_data, population_data, on=[\"Entity\", \"Code\", \"Year\"], how=\"inner\")\n",
    "merged_data = pd.merge(merged_data, continents_data, on=\"Entity\", how=\"left\")  # Add continent info\n",
    "\n",
    "# Display the merged dataset to ensure everything is included\n",
    "merged_data.head()"
   ]
  },
  {
   "cell_type": "code",
   "execution_count": null,
   "id": "ae51b2fc",
   "metadata": {},
   "outputs": [],
   "source": [
    "merged_data['GDP']= round(merged_data.GDP/1_000_000,2)\n",
    "merged_data.sample()"
   ]
  },
  {
   "cell_type": "code",
   "execution_count": null,
   "id": "23944a4a",
   "metadata": {},
   "outputs": [],
   "source": [
    "# === Dynamic Scatter Plot using Plotly === #\n",
    "# Create a dynamic scatter plot\n",
    "\n",
    "# Ensure the 'Year' column is numeric and sort the data by 'Year'\n",
    "merged_data['Year'] = pd.to_numeric(merged_data['Year'], errors='coerce')\n",
    "merged_data = merged_data.dropna(subset=[\"Year\"])  # Drop rows with invalid years\n",
    "merged_data[\"Year\"] = merged_data[\"Year\"].astype(int)  # Convert Year to integer\n",
    "merged_data = merged_data.sort_values(by='Year')\n",
    "\n",
    "# Define a scaling factor for population marker sizes\n",
    "size_scale = 1e-6  # Adjust this value to fine-tune the marker sizes\n",
    "\n",
    "# Create the dynamic scatter plot\n",
    "fig = px.scatter(\n",
    "    merged_data,\n",
    "    x=\"GDP\",\n",
    "    y=\"Life_Expectancy\",\n",
    "    animation_frame=\"Year\",\n",
    "    animation_group=\"Entity\",\n",
    "    size=merged_data[\"Population\"] * size_scale,  # Scale down population for marker sizes\n",
    "    color=\"Entity\",\n",
    "    hover_name=\"Entity\",\n",
    "    log_x=True,  # GDP is typically better visualized on a log scale\n",
    "    title=\"Dynamic Scatter Plot: GDP (Millions) vs Life Expectancy Over Time\",\n",
    "    labels={\"GDP\": \"GDP (Millions, log scale)\", \"Life_Expectancy\": \"Life Expectancy\"}\n",
    ")\n",
    "\n",
    "# Update marker styling (outline color and width)\n",
    "fig.update_traces(marker=dict(line=dict(width=1, color='DarkSlateGrey')))\n",
    "\n",
    "# Adjust axis ranges for the scaled GDP\n",
    "fig.update_layout(\n",
    "    xaxis=dict(range=[0, 8]),  # Adjust log scale range for GDP (log10(1 to 10 million))\n",
    "    yaxis=dict(range=[30, 90])  # Adjust Life Expectancy range\n",
    ")\n",
    "\n",
    "# Improve the layout and legend\n",
    "fig.update_layout(\n",
    "    legend=dict(title=\"Countries\", font=dict(size=10)),\n",
    "    margin=dict(l=50, r=50, t=50, b=50),\n",
    "    height=600,  # Adjust plot height\n",
    "    width=1000,  # Adjust plot width\n",
    ")\n",
    "\n",
    "# Display the Plotly figure\n",
    "fig.show()"
   ]
  },
  {
   "cell_type": "code",
   "execution_count": null,
   "id": "e796bb71",
   "metadata": {},
   "outputs": [],
   "source": [
    "#3D Scatter Plot\n",
    "#A 3D scatter plot to represent the relationships between GDP, Life Expectancy, and Population.\n",
    "fig = px.scatter_3d(\n",
    "    merged_data,\n",
    "    x=\"GDP\",\n",
    "    y=\"Life_Expectancy\",\n",
    "    z=\"Population\",\n",
    "    color=\"Entity\",\n",
    "    size=\"Population\",  # Bubble size\n",
    "    log_x=True,  # Log scale for GDP\n",
    "    title=\"3D Scatter Plot: GDP, Life Expectancy, and Population\"\n",
    ")\n",
    "\n",
    "fig.update_layout(height=700, width=900)\n",
    "fig.show()"
   ]
  },
  {
   "cell_type": "code",
   "execution_count": null,
   "id": "b5e84456",
   "metadata": {},
   "outputs": [],
   "source": [
    "#GDP and Life Expectancy Timeline (Facet Grid)\n",
    "#Compare trends across countries using small multiples.\n",
    "# Filter for a subset of countries\n",
    "subset_countries = [\"United States\", \"China\", \"India\", \"Brazil\", \"Germany\",\"Mexico\"]\n",
    "subset_data = merged_data[merged_data[\"Entity\"].isin(subset_countries)]\n",
    "\n",
    "fig = px.line(\n",
    "    subset_data,\n",
    "    x=\"Year\",\n",
    "    y=\"GDP\",\n",
    "    color=\"Entity\",\n",
    "    facet_col=\"Entity\",  # Create a facet for each selected country\n",
    "    facet_col_wrap=3,  # Wrap facets into rows\n",
    "    title=\"GDP Trends for Selected Countries Over Time\"\n",
    ")\n",
    "\n",
    "fig.update_layout(height=800, width=1000)\n",
    "fig.show()\n"
   ]
  },
  {
   "cell_type": "code",
   "execution_count": null,
   "id": "98c4a326",
   "metadata": {},
   "outputs": [],
   "source": [
    "#Sunburst Chart\n",
    "#A hierarchical visualization to group countries by GDP brackets, population, or life expectancy.\n",
    "# Create GDP brackets\n",
    "merged_data[\"GDP_Bracket\"] = pd.cut(\n",
    "    merged_data[\"GDP\"],\n",
    "    bins=[0, 1e5, 1e6, 1e7, 1e8],\n",
    "    labels=[\"Low\", \"Lower-Middle\", \"Upper-Middle\", \"High\"]\n",
    ")\n",
    "\n",
    "fig = px.sunburst(\n",
    "    merged_data,\n",
    "    path=[\"GDP_Bracket\", \"Entity\"],  # Hierarchical levels: GDP bracket → Country\n",
    "    values=\"Population\",  # Size of slices based on Population\n",
    "    color=\"Life_Expectancy\",  # Color based on Life Expectancy\n",
    "    title=\"Sunburst Chart: Population by GDP Bracket\"\n",
    ")\n",
    "\n",
    "fig.update_layout(height=700, width=700)\n",
    "fig.show()"
   ]
  },
  {
   "cell_type": "code",
   "execution_count": null,
   "id": "8543db2c",
   "metadata": {},
   "outputs": [],
   "source": [
    "#Stacked Area Chart\n",
    "#Show cumulative GDP, life expectancy, or population trends over time by country.\n",
    "fig = px.area(\n",
    "    merged_data,\n",
    "    x=\"Year\",\n",
    "    y=\"GDP\",\n",
    "    color=\"Entity\",\n",
    "    title=\"Stacked Area Chart: GDP Trends Over Time by Country\",\n",
    "    labels={\"GDP\": \"GDP (constant 2010 US$)\"}\n",
    ")\n",
    "\n",
    "fig.update_layout(height=600, width=900)\n",
    "fig.show()"
   ]
  },
  {
   "cell_type": "code",
   "execution_count": null,
   "id": "9e7e8a22",
   "metadata": {},
   "outputs": [],
   "source": [
    "#Parallel Coordinates Plot\n",
    "#Compare multiple attributes (e.g., GDP, Life Expectancy, and Population) across countries.\n",
    "\n",
    "fig = px.parallel_coordinates(\n",
    "    merged_data,\n",
    "    dimensions=[\"GDP\", \"Life_Expectancy\", \"Population\"],\n",
    "    color=\"Year\",\n",
    "    title=\"Parallel Coordinates Plot: GDP, Life Expectancy, and Population\"\n",
    ")\n",
    "\n",
    "fig.update_layout(height=600, width=900)\n",
    "fig.show()"
   ]
  },
  {
   "cell_type": "code",
   "execution_count": null,
   "id": "1ebc1d52",
   "metadata": {},
   "outputs": [],
   "source": [
    "#Animated Bar Chart Race\n",
    "#Show the top countries by GDP over time in a dynamic bar race.\n",
    "fig = px.bar(\n",
    "    merged_data.sort_values(by=[\"Year\", \"GDP\"], ascending=[True, False]),\n",
    "    x=\"Entity\",\n",
    "    y=\"GDP\",\n",
    "    color=\"Entity\",\n",
    "    animation_frame=\"Year\",\n",
    "    title=\"Bar Chart Race: Top Countries by GDP Over Time\"\n",
    ")\n",
    "\n",
    "fig.update_layout(height=600, width=900)\n",
    "fig.show()"
   ]
  },
  {
   "cell_type": "code",
   "execution_count": null,
   "id": "4508b94a",
   "metadata": {},
   "outputs": [],
   "source": [
    "#Correlation Heatmap\n",
    "#Visualize correlations between numeric columns like GDP, Population, and Life Expectancy.\n",
    "\n",
    "# Calculate the correlation matrix and round it to 2 decimal places\n",
    "correlation_matrix = merged_data[[\"GDP\", \"Life_Expectancy\", \"Population\"]].corr().round(2)\n",
    "\n",
    "# Create the heatmap with rounded annotations\n",
    "fig = ff.create_annotated_heatmap(\n",
    "    z=correlation_matrix.values,\n",
    "    x=correlation_matrix.columns.tolist(),\n",
    "    y=correlation_matrix.columns.tolist(),\n",
    "    annotation_text=correlation_matrix.values.round(2).astype(str),  # Rounded annotations\n",
    "    colorscale=\"Viridis\"\n",
    ")\n",
    "\n",
    "# Add the title and adjust layout\n",
    "fig.update_layout(\n",
    "    title=\"Correlation Heatmap\",\n",
    "    title_x=0.5,  # Center the title\n",
    "    height=600,\n",
    "    width=600\n",
    ")\n",
    "\n",
    "# Display the heatmap\n",
    "fig.show()"
   ]
  },
  {
   "cell_type": "code",
   "execution_count": null,
   "id": "b7ded4e7",
   "metadata": {},
   "outputs": [],
   "source": [
    "#Choropleth Map\n",
    "#Visualize global GDP, population, or life expectancy as a heatmap on a world map.\n",
    "fig = px.choropleth(\n",
    "    merged_data,\n",
    "    locations=\"Code\",  # Country ISO Code\n",
    "    color=\"GDP\",  # Metric to color by\n",
    "    hover_name=\"Entity\",  # Country name on hover\n",
    "    animation_frame=\"Year\",  # Show changes over time\n",
    "    title=\"Choropleth Map: Global GDP Over Time\",\n",
    "    labels={\"GDP\": \"GDP (constant 2010 US$)\"}\n",
    ")\n",
    "\n",
    "fig.update_geos(projection_type=\"natural earth\")  # Use a natural earth projection\n",
    "fig.show()\n"
   ]
  },
  {
   "cell_type": "code",
   "execution_count": null,
   "id": "95f881f9",
   "metadata": {},
   "outputs": [],
   "source": [
    "# Step 1: Load the merged data\n",
    "# (Assuming `merged_data` is already created with GDP, Life Expectancy, and Population)\n",
    "display(\"Columns in merged_data before adding centroids:\", merged_data.columns)\n",
    "\n",
    "# Step 2: Load GeoJSON Data for Centroids\n",
    "geo_data = gpd.read_file(\"https://raw.githubusercontent.com/datasets/geo-countries/master/data/countries.geojson\")\n",
    "\n",
    "# Calculate centroids for each country\n",
    "geo_data[\"Latitude\"] = geo_data[\"geometry\"].centroid.y\n",
    "geo_data[\"Longitude\"] = geo_data[\"geometry\"].centroid.x\n",
    "\n",
    "# Rename \"ADMIN\" to match \"Entity\" in merged_data\n",
    "geo_data = geo_data.rename(columns={\"ADMIN\": \"Entity\"})\n",
    "\n",
    "# Extract only necessary columns: Entity, Latitude, Longitude\n",
    "country_centroids = geo_data[[\"Entity\", \"Latitude\", \"Longitude\"]]\n",
    "\n",
    "# Debugging: Check for missing coordinates\n",
    "missing_coords = merged_data[~merged_data[\"Entity\"].isin(country_centroids[\"Entity\"])]\n",
    "print(\"Rows dropped due to missing coordinates:\", missing_coords[[\"Entity\"]].drop_duplicates())\n",
    "\n",
    "# Step 3: Add missing countries manually (e.g., United States)\n",
    "missing_rows = pd.DataFrame({\n",
    "    \"Entity\": [\"United States\", \"Cote d'Ivoire\", \"Hong Kong\"],\n",
    "    \"Latitude\": [37.0902, 7.539989, 22.3964],  # Example coordinates\n",
    "    \"Longitude\": [-95.7129, -5.54708, 114.1095]\n",
    "})\n",
    "\n",
    "# Concatenate the new rows to country_centroids\n",
    "country_centroids = pd.concat([country_centroids, missing_rows], ignore_index=True)\n",
    "\n",
    "# Step 4: Merge centroids with the merged dataset\n",
    "merged_data_with_coords = pd.merge(merged_data, country_centroids, on=\"Entity\", how=\"left\")\n",
    "\n",
    "# Check if all rows are included now\n",
    "print(\"Entities with missing coordinates after the fix:\", \n",
    "      merged_data_with_coords[merged_data_with_coords[\"Latitude\"].isna()][[\"Entity\"]])\n",
    "\n",
    "# Drop rows without coordinates\n",
    "merged_data_with_coords = merged_data_with_coords.dropna(subset=[\"Latitude\", \"Longitude\"])"
   ]
  },
  {
   "cell_type": "code",
   "execution_count": null,
   "id": "18300402",
   "metadata": {},
   "outputs": [],
   "source": [
    "#Bubble Map\n",
    "#A geographic visualization with bubble sizes representing population and color intensity representing GDP.\n",
    "\n",
    "fig = px.scatter_geo(\n",
    "    merged_data_with_coords,\n",
    "    lat=\"Latitude\",\n",
    "    lon=\"Longitude\",\n",
    "    size=\"Population\",  # Bubble size based on Population\n",
    "    color=\"GDP\",  # Color intensity based on GDP\n",
    "    hover_name=\"Entity\",\n",
    "    animation_frame=\"Year\",\n",
    "    title=\"Bubble Map: Population and GDP Over Time\"\n",
    ")\n",
    "\n",
    "fig.update_layout(height=600, width=900)\n",
    "fig.show()"
   ]
  },
  {
   "cell_type": "code",
   "execution_count": null,
   "id": "b37eae67",
   "metadata": {},
   "outputs": [],
   "source": [
    "# Step 5: Create Kepler Map\n",
    "kepler_map = KeplerGl(height=600)\n",
    "\n",
    "# Add the merged data with coordinates to Kepler\n",
    "kepler_map.add_data(data=merged_data_with_coords, name=\"GDP, Life Expectancy, and Population\")\n",
    "\n",
    "# Display the map\n",
    "kepler_map\n",
    "\n",
    "# Save the updated map to an HTML file\n",
    "kepler_map.save_to_html(file_name=\"kepler_map_with_population_fixed.html\")"
   ]
  },
  {
   "cell_type": "code",
   "execution_count": null,
   "id": "ff0d13d0",
   "metadata": {},
   "outputs": [],
   "source": [
    "#Join Plot\n",
    "px.scatter(merged_data.query(\"Year == 2017\"), x = \"GDP\", \n",
    "           y = \"Life_Expectancy\",\n",
    "           marginal_y = \"histogram\", marginal_x = \"histogram\")"
   ]
  },
  {
   "cell_type": "code",
   "execution_count": null,
   "id": "d142a8c8",
   "metadata": {},
   "outputs": [],
   "source": [
    "#Join Plot\n",
    "px.scatter(merged_data.query(\"Year == 2017\"), x = \"GDP\", \n",
    "           y = \"Life_Expectancy\",\n",
    "           marginal_y = \"box\", marginal_x = \"box\")"
   ]
  },
  {
   "cell_type": "code",
   "execution_count": null,
   "id": "d0b68725",
   "metadata": {},
   "outputs": [],
   "source": [
    "sns.jointplot(data = merged_data.query(\"Year == 2017\"), x = \"GDP\", \n",
    "           y = \"Life_Expectancy\", kind = \"hex\")"
   ]
  },
  {
   "cell_type": "code",
   "execution_count": null,
   "id": "bac1e8ca",
   "metadata": {},
   "outputs": [],
   "source": [
    "px.density_heatmap(merged_data.query(\"Year == 2017\"), x = \"GDP\", \n",
    "           y = \"Life_Expectancy\", marginal_x = \"histogram\", marginal_y = \"histogram\")"
   ]
  },
  {
   "cell_type": "code",
   "execution_count": null,
   "id": "30a733dd",
   "metadata": {},
   "outputs": [],
   "source": [
    "px.box(\n",
    "    merged_data,\n",
    "    x=\"Continent\",\n",
    "    y=\"Life_Expectancy\",color=\"Continent\")"
   ]
  },
  {
   "cell_type": "markdown",
   "id": "de7adcca",
   "metadata": {},
   "source": [
    "In this way we move from this basic plots to more advanced ones"
   ]
  },
  {
   "cell_type": "code",
   "execution_count": null,
   "id": "33d95072",
   "metadata": {},
   "outputs": [],
   "source": [
    "px.violin(data_frame=merged_data,x='Life_Expectancy')"
   ]
  },
  {
   "cell_type": "code",
   "execution_count": null,
   "id": "452c7447",
   "metadata": {},
   "outputs": [],
   "source": [
    "px.histogram(data_frame=merged_data,x='Life_Expectancy')"
   ]
  },
  {
   "cell_type": "code",
   "execution_count": null,
   "id": "88c3b3c5",
   "metadata": {},
   "outputs": [],
   "source": [
    "px.bar(merged_data.groupby('Entity')[['Life_Expectancy']].mean().sort_values(by='Life_Expectancy',ascending=False))"
   ]
  },
  {
   "cell_type": "code",
   "execution_count": null,
   "id": "40ee0181",
   "metadata": {},
   "outputs": [],
   "source": [
    "px.bar(merged_data[merged_data['Year'] == 2017].sort_values(by=\"GDP\",ascending=False), x = \"Entity\", y = \"GDP\",color=\"Entity\")"
   ]
  },
  {
   "cell_type": "code",
   "execution_count": null,
   "id": "61387cff",
   "metadata": {},
   "outputs": [],
   "source": [
    "px.scatter(data_frame=merged_data[merged_data['Year'] == 2017],x='Life_Expectancy',y='GDP',color='Entity')"
   ]
  },
  {
   "cell_type": "markdown",
   "id": "251a44da",
   "metadata": {},
   "source": [
    "Data Cleaning"
   ]
  },
  {
   "cell_type": "code",
   "execution_count": null,
   "id": "a04080d8",
   "metadata": {},
   "outputs": [],
   "source": [
    "#Eliminate Duplicates\n",
    "\n",
    "# Sample dataset with duplicates\n",
    "data = {'Name': ['Alice', 'Bob', 'Alice', 'David'],\n",
    "        'Age': [25, 30, 25, 22],\n",
    "        'City': ['New York', 'Los Angeles', 'New York', 'Chicago']}\n",
    "df = pd.DataFrame(data)\n",
    "\n",
    "print(\"Original Dataset:\")\n",
    "display(df)\n",
    "\n",
    "# Remove duplicate rows\n",
    "df_no_duplicates = df.drop_duplicates()\n",
    "\n",
    "print(\"\\nDataset after removing duplicates:\")\n",
    "df_no_duplicates"
   ]
  },
  {
   "cell_type": "code",
   "execution_count": null,
   "id": "371ecbc7",
   "metadata": {},
   "outputs": [],
   "source": [
    "# Dataset with structural errors\n",
    "data = {'Category': ['N/A', 'not applicable', 'Cat', 'cat', 'Dog', 'dog'],\n",
    "        'Value': [1, 2, 3, 4, 5, 6]}\n",
    "df = pd.DataFrame(data)\n",
    "\n",
    "print(\"Original Dataset:\")\n",
    "display(df)\n",
    "\n",
    "# Normalize categories (e.g., lowercase and unify 'N/A')\n",
    "df['Category'] = df['Category'].str.lower().replace({'n/a': 'not applicable'})\n",
    "\n",
    "print(\"\\nDataset after resolving structural errors:\")\n",
    "df"
   ]
  },
  {
   "cell_type": "code",
   "execution_count": null,
   "id": "4341d01a",
   "metadata": {},
   "outputs": [],
   "source": [
    "#Filter Outliers\n",
    "# Dataset with outliers\n",
    "data = {'Values': [10, 12, 14, 1000, 15, 20]}\n",
    "df = pd.DataFrame(data)\n",
    "\n",
    "print(\"Original Dataset:\")\n",
    "display(df)\n",
    "\n",
    "# Calculate IQR for outlier detection\n",
    "Q1 = df['Values'].quantile(0.25)\n",
    "Q3 = df['Values'].quantile(0.75)\n",
    "IQR = Q3 - Q1\n",
    "lower_bound = Q1 - 1.5 * IQR\n",
    "upper_bound = Q3 + 1.5 * IQR\n",
    "\n",
    "# Filter outliers\n",
    "df_filtered = df[(df['Values'] >= lower_bound) & (df['Values'] <= upper_bound)]\n",
    "\n",
    "print(\"\\nDataset after filtering outliers:\")\n",
    "df_filtered"
   ]
  },
  {
   "cell_type": "code",
   "execution_count": null,
   "id": "7d5ff3c6",
   "metadata": {},
   "outputs": [],
   "source": [
    "# Handle Missing Data\n",
    "# Dataset with missing values\n",
    "data = {'Name': ['Alice', 'Bob', 'Charlie', None],\n",
    "        'Age': [25, None, 30, 28],\n",
    "        'City': ['New York', 'Los Angeles', None, 'Chicago']}\n",
    "df = pd.DataFrame(data)\n",
    "\n",
    "print(\"Original Dataset:\")\n",
    "display(df)\n",
    "\n",
    "# Handle missing data: Replace with placeholder\n",
    "df_filled = df.fillna({'Name': 'Unknown', 'Age': df['Age'].mean(), 'City': 'Unknown'})\n",
    "\n",
    "print(\"\\nDataset after handling missing data:\")\n",
    "df_filled"
   ]
  },
  {
   "cell_type": "code",
   "execution_count": null,
   "id": "80825ad3",
   "metadata": {},
   "outputs": [],
   "source": [
    "# Validate\n",
    "\n",
    "# Descriptive statistics\n",
    "print(\"Descriptive Statistics:\")\n",
    "display(df_filled.describe(include='all'))\n",
    "\n",
    "# Check for unique categories\n",
    "print(\"\\nUnique Cities:\")\n",
    "df_filled['City'].unique()"
   ]
  },
  {
   "cell_type": "code",
   "execution_count": null,
   "id": "c6776546",
   "metadata": {},
   "outputs": [],
   "source": []
  },
  {
   "cell_type": "code",
   "execution_count": null,
   "id": "405492fa",
   "metadata": {},
   "outputs": [],
   "source": []
  },
  {
   "cell_type": "markdown",
   "id": "c0263a67",
   "metadata": {},
   "source": [
    "# Lecture 4 - filled out"
   ]
  },
  {
   "cell_type": "code",
   "execution_count": null,
   "id": "b17d85c0",
   "metadata": {},
   "outputs": [],
   "source": [
    "import pandas as pd\n",
    "import seaborn as sns\n",
    "pd.options.display.max_rows = 10"
   ]
  },
  {
   "cell_type": "code",
   "execution_count": null,
   "id": "41ba78a8",
   "metadata": {},
   "outputs": [],
   "source": [
    "gdp = pd.read_csv(\"gdp.csv\")\n",
    "gdp[\"gdp\"] = gdp[\"GDP (constant 2010 US$)\"] / 1_000_000_000"
   ]
  },
  {
   "cell_type": "code",
   "execution_count": null,
   "id": "d713d8f3",
   "metadata": {},
   "outputs": [],
   "source": [
    "import plotly.express as px\n",
    "px.line(gdp, x = \"Year\", y = \"gdp\", color = \"Entity\")"
   ]
  },
  {
   "cell_type": "code",
   "execution_count": null,
   "id": "a5f923b1",
   "metadata": {},
   "outputs": [],
   "source": [
    "pop = pd.read_csv(\"population.csv\")"
   ]
  },
  {
   "cell_type": "code",
   "execution_count": null,
   "id": "abaf316a",
   "metadata": {},
   "outputs": [],
   "source": [
    "pop"
   ]
  },
  {
   "cell_type": "code",
   "execution_count": null,
   "id": "09e58040",
   "metadata": {},
   "outputs": [],
   "source": [
    "px.line(pop.query(\"Year > 1900\"), x = \"Year\", y = \"Total population (Gapminder, HYDE & UN)\", color = \"Entity\")"
   ]
  },
  {
   "cell_type": "code",
   "execution_count": null,
   "id": "2800eaaf",
   "metadata": {},
   "outputs": [],
   "source": [
    "pop = pop.rename(columns = {\"Total population (Gapminder, HYDE & UN)\" : \"population\"})"
   ]
  },
  {
   "cell_type": "code",
   "execution_count": null,
   "id": "86aaa63a",
   "metadata": {},
   "outputs": [],
   "source": [
    "pop"
   ]
  },
  {
   "cell_type": "code",
   "execution_count": null,
   "id": "d554ed2f",
   "metadata": {},
   "outputs": [],
   "source": [
    "gdp2017 = gdp.query(\"Year == 2017\")"
   ]
  },
  {
   "cell_type": "code",
   "execution_count": null,
   "id": "31bc6250",
   "metadata": {},
   "outputs": [],
   "source": [
    "pop2017 = pop.query(\"Year == 2017\")\n",
    "pop2017"
   ]
  },
  {
   "cell_type": "code",
   "execution_count": null,
   "id": "8c20f082",
   "metadata": {},
   "outputs": [],
   "source": [
    "gdp_and_pop_2017 = pd.merge(left = gdp2017, right = pop2017, left_on = \"Entity\", right_on = \"Entity\", how = \"left\")\n",
    "gdp_and_pop_2017"
   ]
  },
  {
   "cell_type": "code",
   "execution_count": null,
   "id": "b0234984",
   "metadata": {},
   "outputs": [],
   "source": [
    "gdp_and_pop_2017[\"gdp_per_capita\"] = gdp_and_pop_2017[\"GDP (constant 2010 US$)\"] / gdp_and_pop_2017[\"population\"]\n",
    "gdp_and_pop_2017"
   ]
  },
  {
   "cell_type": "code",
   "execution_count": null,
   "id": "7e733c21",
   "metadata": {
    "scrolled": true
   },
   "outputs": [],
   "source": [
    "px.bar(gdp_and_pop_2017.sort_values(\"gdp_per_capita\"), x = \"Entity\", y = \"gdp_per_capita\")"
   ]
  },
  {
   "cell_type": "code",
   "execution_count": null,
   "id": "294bc7ab",
   "metadata": {},
   "outputs": [],
   "source": [
    "gdp_and_pop_2017.query('Entity == \"Kosovo\"')"
   ]
  },
  {
   "cell_type": "code",
   "execution_count": null,
   "id": "7e15ecc4",
   "metadata": {},
   "outputs": [],
   "source": [
    "set(gdp2017[\"Entity\"]) - set(pop2017[\"Entity\"])"
   ]
  },
  {
   "cell_type": "code",
   "execution_count": null,
   "id": "5ef2ba76",
   "metadata": {},
   "outputs": [],
   "source": [
    "gdp_and_pop_2017"
   ]
  },
  {
   "cell_type": "code",
   "execution_count": null,
   "id": "85251cf2",
   "metadata": {},
   "outputs": [],
   "source": [
    "gdp_and_pop_2017.sort_values(\"gdp_per_capita\")"
   ]
  },
  {
   "cell_type": "code",
   "execution_count": null,
   "id": "51697ca4",
   "metadata": {},
   "outputs": [],
   "source": [
    "pop"
   ]
  },
  {
   "cell_type": "code",
   "execution_count": null,
   "id": "bf18714c",
   "metadata": {},
   "outputs": [],
   "source": [
    "gdp_and_pop = pd.merge(left = gdp, right = pop, left_on = [\"Entity\", \"Year\"], right_on = [\"Entity\", \"Year\"], how = \"inner\")\n",
    "gdp_and_pop"
   ]
  },
  {
   "cell_type": "code",
   "execution_count": null,
   "id": "b652b70e",
   "metadata": {},
   "outputs": [],
   "source": [
    "gdp_and_pop[\"gdp_per_capita\"] = gdp_and_pop[\"GDP (constant 2010 US$)\"] / gdp_and_pop[\"population\"]"
   ]
  },
  {
   "cell_type": "code",
   "execution_count": null,
   "id": "73f69154",
   "metadata": {},
   "outputs": [],
   "source": [
    "gdp_and_pop"
   ]
  },
  {
   "cell_type": "code",
   "execution_count": null,
   "id": "4573e693",
   "metadata": {},
   "outputs": [],
   "source": [
    "px.line(gdp_and_pop, x = \"Year\", y = \"gdp_per_capita\", color = \"Entity\")"
   ]
  },
  {
   "cell_type": "code",
   "execution_count": null,
   "id": "2e67a043",
   "metadata": {},
   "outputs": [],
   "source": [
    "gdp_and_pop_by_entity = gdp_and_pop.set_index(\"Entity\")"
   ]
  },
  {
   "cell_type": "code",
   "execution_count": null,
   "id": "2a31726b",
   "metadata": {},
   "outputs": [],
   "source": [
    "gdp_and_pop_by_entity[\"gdp_per_cap_ratio\"] = gdp_and_pop_by_entity[\"gdp_per_capita\"] / gdp_and_pop_by_entity.query(\"Year == 1960\")[\"gdp_per_capita\"]"
   ]
  },
  {
   "cell_type": "code",
   "execution_count": null,
   "id": "62f1a514",
   "metadata": {},
   "outputs": [],
   "source": [
    "gdp_and_pop = gdp_and_pop_by_entity.reset_index()"
   ]
  },
  {
   "cell_type": "code",
   "execution_count": null,
   "id": "e06562ed",
   "metadata": {},
   "outputs": [],
   "source": [
    "gdp_per_cap_ratio_history = gdp_and_pop.dropna()"
   ]
  },
  {
   "cell_type": "code",
   "execution_count": null,
   "id": "c87f53f6",
   "metadata": {
    "scrolled": true
   },
   "outputs": [],
   "source": [
    "px.line(gdp_per_cap_ratio_history, x = \"Year\", y = \"gdp_per_cap_ratio\", color = \"Entity\")"
   ]
  },
  {
   "cell_type": "code",
   "execution_count": null,
   "id": "60199e2d",
   "metadata": {},
   "outputs": [],
   "source": [
    "gdp_and_pop_by_entity = gdp_per_cap_ratio_history.set_index(\"Entity\")\n",
    "gdp_and_pop_by_entity[\"pop_ratio\"] = gdp_and_pop_by_entity[\"population\"] / gdp_and_pop_by_entity.query(\"Year == 1960\")[\"population\"]\n",
    "gdp_and_pop_by_entity[\"gdp_ratio\"] = gdp_and_pop_by_entity[\"gdp\"] / gdp_and_pop_by_entity.query(\"Year == 1960\")[\"gdp\"]\n",
    "gdp_and_pop = gdp_and_pop_by_entity.reset_index()"
   ]
  },
  {
   "cell_type": "code",
   "execution_count": null,
   "id": "25f337e3",
   "metadata": {},
   "outputs": [],
   "source": [
    "gdp_and_pop"
   ]
  },
  {
   "cell_type": "code",
   "execution_count": null,
   "id": "01ecdf5e",
   "metadata": {},
   "outputs": [],
   "source": [
    "px.line(gdp_and_pop, x = \"Year\", y = \"pop_ratio\", color = \"Entity\")"
   ]
  },
  {
   "cell_type": "code",
   "execution_count": null,
   "id": "03a86a61",
   "metadata": {},
   "outputs": [],
   "source": [
    "px.scatter(gdp_and_pop.query(\"Year == 2017\"), x = \"gdp_per_cap_ratio\", y = \"pop_ratio\", color = \"Entity\")"
   ]
  },
  {
   "cell_type": "code",
   "execution_count": null,
   "id": "064a2bff",
   "metadata": {
    "scrolled": true
   },
   "outputs": [],
   "source": [
    "px.scatter(gdp_and_pop.query(\"Year == 2017\"), x = \"gdp_per_cap_ratio\", y = \"pop_ratio\", color = \"Entity\", size = \"gdp_ratio\")"
   ]
  },
  {
   "cell_type": "code",
   "execution_count": null,
   "id": "482037a4",
   "metadata": {},
   "outputs": [],
   "source": [
    "#Exercise suggestion: 1960 vs 2017 GDP by using merge"
   ]
  },
  {
   "cell_type": "markdown",
   "id": "04fed358",
   "metadata": {},
   "source": [
    "### Adding Life Expectancy Data"
   ]
  },
  {
   "cell_type": "code",
   "execution_count": null,
   "id": "5dd2e4e1",
   "metadata": {},
   "outputs": [],
   "source": [
    "life_exp = pd.read_csv(\"life_expectancy.csv\")\n",
    "life_exp"
   ]
  },
  {
   "cell_type": "code",
   "execution_count": null,
   "id": "1f3989ba",
   "metadata": {},
   "outputs": [],
   "source": [
    "life_exp = life_exp[[\"Entity\", \"Year\", \"Life expectancy\"]]"
   ]
  },
  {
   "cell_type": "code",
   "execution_count": null,
   "id": "818f4c62",
   "metadata": {
    "scrolled": true
   },
   "outputs": [],
   "source": [
    "gdp_pop_le = pd.merge(left = gdp_and_pop, right = life_exp, left_on = [\"Entity\", \"Year\"], right_on = [\"Entity\", \"Year\"], how = \"left\")"
   ]
  },
  {
   "cell_type": "code",
   "execution_count": null,
   "id": "3cdb83f0",
   "metadata": {
    "scrolled": true
   },
   "outputs": [],
   "source": [
    "gdp_pop_le"
   ]
  },
  {
   "cell_type": "code",
   "execution_count": null,
   "id": "bd2f232e",
   "metadata": {},
   "outputs": [],
   "source": [
    "px.scatter(gdp_pop_le.query(\"Year == 2017\"), x = \"gdp_per_capita\", \n",
    "           y = \"Life expectancy\", color = \"Entity\")"
   ]
  },
  {
   "cell_type": "code",
   "execution_count": null,
   "id": "6fa86753",
   "metadata": {},
   "outputs": [],
   "source": [
    "px.scatter(gdp_pop_le.query(\"Year == 2017\"), x = \"gdp_per_capita\", \n",
    "           y = \"Life expectancy\", color = \"Entity\", log_x = True)"
   ]
  },
  {
   "cell_type": "code",
   "execution_count": null,
   "id": "7a6527ec",
   "metadata": {},
   "outputs": [],
   "source": [
    "gdp_pop_le_with_log_gdp = gdp_pop_le.copy()"
   ]
  },
  {
   "cell_type": "code",
   "execution_count": null,
   "id": "37737a4f",
   "metadata": {},
   "outputs": [],
   "source": [
    "import numpy as np\n",
    "gdp_pop_le_with_log_gdp[\"log_10_gdp_per_capita\"] = np.log10(gdp_pop_le_with_log_gdp[\"gdp_per_capita\"])"
   ]
  },
  {
   "cell_type": "code",
   "execution_count": null,
   "id": "8bd8ae52",
   "metadata": {},
   "outputs": [],
   "source": [
    "fig = px.scatter(gdp_pop_le_with_log_gdp.query(\"Year == 2017\"), x = \"log_10_gdp_per_capita\", \n",
    "           y = \"Life expectancy\", trendline = \"ols\")\n",
    "fig.show()"
   ]
  },
  {
   "cell_type": "markdown",
   "id": "23f4803f",
   "metadata": {},
   "source": [
    "### Histograms, KDE Plots, Violin Plots, Box Plots"
   ]
  },
  {
   "cell_type": "code",
   "execution_count": null,
   "id": "c93347dd",
   "metadata": {},
   "outputs": [],
   "source": [
    "px.histogram(gdp_pop_le.query(\"Year == 2017\")[\"Life expectancy\"])\n",
    "# maybe show line"
   ]
  },
  {
   "cell_type": "code",
   "execution_count": null,
   "id": "dff587b8",
   "metadata": {},
   "outputs": [],
   "source": [
    "sns.displot(gdp_pop_le.query(\"Year == 2017\")[\"Life expectancy\"])"
   ]
  },
  {
   "cell_type": "code",
   "execution_count": null,
   "id": "4930636a",
   "metadata": {},
   "outputs": [],
   "source": [
    "sns.displot(gdp_pop_le.query(\"Year == 2017\")[\"Life expectancy\"], kde = True)"
   ]
  },
  {
   "cell_type": "code",
   "execution_count": null,
   "id": "dc51cc04",
   "metadata": {},
   "outputs": [],
   "source": [
    "sns.displot(gdp_pop_le.query(\"Year == 2017\")[\"Life expectancy\"], kde = True, rug = True)"
   ]
  },
  {
   "cell_type": "code",
   "execution_count": null,
   "id": "4d09d641",
   "metadata": {
    "scrolled": true
   },
   "outputs": [],
   "source": [
    "px.violin(gdp_pop_le.query(\"Year == 2017\")[\"Life expectancy\"])"
   ]
  },
  {
   "cell_type": "code",
   "execution_count": null,
   "id": "a8e69f4a",
   "metadata": {},
   "outputs": [],
   "source": [
    "px.violin(gdp_pop_le.query(\"Year == 2017\")[\"Life expectancy\"], points = \"all\")"
   ]
  },
  {
   "cell_type": "code",
   "execution_count": null,
   "id": "0a196307",
   "metadata": {},
   "outputs": [],
   "source": [
    "continents = pd.read_csv(\"continents.csv\")\n",
    "continents"
   ]
  },
  {
   "cell_type": "code",
   "execution_count": null,
   "id": "fd169367",
   "metadata": {},
   "outputs": [],
   "source": [
    "gdp_pop_le = pd.merge(left = gdp_pop_le, right = continents, left_on = \"Entity\", \n",
    "                      right_on = \"Country\", how = \"left\")"
   ]
  },
  {
   "cell_type": "code",
   "execution_count": null,
   "id": "fb49d120",
   "metadata": {},
   "outputs": [],
   "source": [
    "continents = [\"Africa\",  \"Europe\"]\n",
    "px.violin(gdp_pop_le.query(\"Year == 2017 and Continent in @continents\").dropna(), y = \"Life expectancy\",\n",
    "          color = \"Continent\")"
   ]
  },
  {
   "cell_type": "code",
   "execution_count": null,
   "id": "dc8efcc4",
   "metadata": {},
   "outputs": [],
   "source": [
    "continents = [\"Africa\",  \"Europe\"]\n",
    "px.box(gdp_pop_le.query(\"Year == 2017 and Continent in @continents\").dropna(), y = \"Life expectancy\",\n",
    "          color = \"Continent\")"
   ]
  },
  {
   "cell_type": "code",
   "execution_count": null,
   "id": "35c4c3e2",
   "metadata": {},
   "outputs": [],
   "source": [
    "px.box(gdp_pop_le.query(\"Year == 2017\").dropna(), y = \"Life expectancy\",\n",
    "          color = \"Continent\")"
   ]
  },
  {
   "cell_type": "code",
   "execution_count": null,
   "id": "dd97efc2",
   "metadata": {
    "scrolled": true
   },
   "outputs": [],
   "source": [
    "px.scatter(gdp_pop_le.query(\"Year == 2017\"), x = \"gdp_per_capita\", \n",
    "           y = \"Life expectancy\",\n",
    "           marginal_y = \"histogram\", marginal_x = \"histogram\")"
   ]
  },
  {
   "cell_type": "code",
   "execution_count": null,
   "id": "51554652",
   "metadata": {},
   "outputs": [],
   "source": [
    "px.scatter(gdp_pop_le.query(\"Year == 2017\"), x = \"gdp_per_capita\", \n",
    "           y = \"Life expectancy\",\n",
    "           marginal_y = \"box\", marginal_x = \"box\")"
   ]
  },
  {
   "cell_type": "code",
   "execution_count": null,
   "id": "47cc5d31",
   "metadata": {},
   "outputs": [],
   "source": [
    "px.density_heatmap(gdp_pop_le.query(\"Year == 2017\"), x = \"gdp_per_capita\", \n",
    "           y = \"Life expectancy\", marginal_x = \"histogram\", marginal_y = \"histogram\")"
   ]
  },
  {
   "cell_type": "code",
   "execution_count": null,
   "id": "b8b9746e",
   "metadata": {
    "scrolled": true
   },
   "outputs": [],
   "source": [
    "sns.jointplot(data = gdp_pop_le.query(\"Year == 2017\"), x = \"gdp_per_capita\", \n",
    "           y = \"Life expectancy\", kind = \"hex\")"
   ]
  },
  {
   "cell_type": "markdown",
   "id": "62758db3",
   "metadata": {},
   "source": [
    "### String Data"
   ]
  },
  {
   "cell_type": "code",
   "execution_count": null,
   "id": "da402952",
   "metadata": {},
   "outputs": [],
   "source": [
    "gdp_pop_le[gdp_pop_le[\"Entity\"].str.contains(\"in\")]"
   ]
  },
  {
   "cell_type": "code",
   "execution_count": null,
   "id": "75684d1f",
   "metadata": {},
   "outputs": [],
   "source": [
    "gdp_pop_le[gdp_pop_le[\"Entity\"].str.startswith(\"B\")]"
   ]
  },
  {
   "cell_type": "code",
   "execution_count": null,
   "id": "4f133c3f",
   "metadata": {},
   "outputs": [],
   "source": [
    "gdp_pop_le[\"Entity\"].str.upper()"
   ]
  },
  {
   "cell_type": "code",
   "execution_count": null,
   "id": "0b89f4ae",
   "metadata": {},
   "outputs": [],
   "source": [
    "gdp_pop_le[gdp_pop_le[\"Entity\"].str.contains(\" \")]"
   ]
  },
  {
   "cell_type": "markdown",
   "id": "1b1c36ca",
   "metadata": {},
   "source": [
    "### Working With Real World Data (Example)"
   ]
  },
  {
   "cell_type": "code",
   "execution_count": null,
   "id": "e03c0871",
   "metadata": {},
   "outputs": [],
   "source": [
    "df = pd.read_csv(\"indian_states.csv\")\n",
    "df"
   ]
  },
  {
   "cell_type": "code",
   "execution_count": null,
   "id": "8988b2f9",
   "metadata": {},
   "outputs": [],
   "source": [
    "df = df.rename(columns = {\"Officiallanguages[39]\": \"official\",\n",
    "                          \"Additional officiallanguages[39]\": \"other\",\n",
    "                          \"Population(census 2011)[citation needed]\": \"population\"})"
   ]
  },
  {
   "cell_type": "code",
   "execution_count": null,
   "id": "62bdabc1",
   "metadata": {
    "scrolled": true
   },
   "outputs": [],
   "source": [
    "df"
   ]
  },
  {
   "cell_type": "code",
   "execution_count": null,
   "id": "8ef94edd",
   "metadata": {},
   "outputs": [],
   "source": [
    "urdu_states = df[(df[\"other\"].str.contains(\"Urdu\")) | (df[\"official\"].str.contains(\"Urdu\"))]"
   ]
  },
  {
   "cell_type": "code",
   "execution_count": null,
   "id": "1d380b07",
   "metadata": {
    "scrolled": true
   },
   "outputs": [],
   "source": [
    "urdu_states"
   ]
  },
  {
   "cell_type": "code",
   "execution_count": null,
   "id": "373fbd93",
   "metadata": {},
   "outputs": [],
   "source": [
    "urdu_states[\"population\"].sum()"
   ]
  },
  {
   "cell_type": "code",
   "execution_count": null,
   "id": "3bce56b6",
   "metadata": {},
   "outputs": [],
   "source": [
    "df.dtypes"
   ]
  },
  {
   "cell_type": "code",
   "execution_count": null,
   "id": "ff00b817",
   "metadata": {},
   "outputs": [],
   "source": [
    "#pd.to_numeric(df[\"population\"])"
   ]
  },
  {
   "cell_type": "code",
   "execution_count": null,
   "id": "3293b7e7",
   "metadata": {},
   "outputs": [],
   "source": [
    "df[\"population\"] = df[\"population\"].str.replace(\",\", \"\")"
   ]
  },
  {
   "cell_type": "code",
   "execution_count": null,
   "id": "4f449729",
   "metadata": {},
   "outputs": [],
   "source": [
    "df"
   ]
  },
  {
   "cell_type": "code",
   "execution_count": null,
   "id": "96318e69",
   "metadata": {},
   "outputs": [],
   "source": [
    "#pd.to_numeric(df[\"population\"])"
   ]
  },
  {
   "cell_type": "code",
   "execution_count": null,
   "id": "0a99f4be",
   "metadata": {},
   "outputs": [],
   "source": [
    "df[\"population\"] = df[\"population\"].str.replace(\"[48]\", \"\")"
   ]
  },
  {
   "cell_type": "code",
   "execution_count": null,
   "id": "3c7566a2",
   "metadata": {},
   "outputs": [],
   "source": [
    "df"
   ]
  },
  {
   "cell_type": "code",
   "execution_count": null,
   "id": "d5e51b3c",
   "metadata": {},
   "outputs": [],
   "source": [
    "df[\"population\"] = df[\"population\"].str.replace(\"\\[\\]\", \"\")"
   ]
  },
  {
   "cell_type": "code",
   "execution_count": null,
   "id": "47abe031",
   "metadata": {},
   "outputs": [],
   "source": [
    "df"
   ]
  },
  {
   "cell_type": "code",
   "execution_count": null,
   "id": "6e89a7de",
   "metadata": {},
   "outputs": [],
   "source": [
    "pd.to_numeric(df[\"population\"])"
   ]
  },
  {
   "cell_type": "code",
   "execution_count": null,
   "id": "1332316e",
   "metadata": {},
   "outputs": [],
   "source": [
    "df[\"population\"] = pd.to_numeric(df[\"population\"])"
   ]
  },
  {
   "cell_type": "code",
   "execution_count": null,
   "id": "f98e79e1",
   "metadata": {},
   "outputs": [],
   "source": [
    "df"
   ]
  },
  {
   "cell_type": "code",
   "execution_count": null,
   "id": "44934f94",
   "metadata": {},
   "outputs": [],
   "source": [
    "df.dtypes"
   ]
  },
  {
   "cell_type": "code",
   "execution_count": null,
   "id": "098399a2",
   "metadata": {},
   "outputs": [],
   "source": [
    "urdu_states = df[(df[\"other\"].str.contains(\"Urdu\")) | (df[\"official\"].str.contains(\"Urdu\"))]\n",
    "urdu_states[\"population\"].sum()"
   ]
  },
  {
   "cell_type": "markdown",
   "id": "021e3a5a",
   "metadata": {},
   "source": [
    "### Even Larger Datasets"
   ]
  },
  {
   "cell_type": "code",
   "execution_count": null,
   "id": "e6f72846",
   "metadata": {},
   "outputs": [],
   "source": [
    "#https://data.cityofberkeley.info/Public-Safety/Berkeley-PD-Stop-Data-Jan-26-2015-to-Sep-30-2020-/4tbf-3yt8 maybe?"
   ]
  },
  {
   "cell_type": "code",
   "execution_count": null,
   "id": "15aabe71",
   "metadata": {},
   "outputs": [],
   "source": [
    "df = pd.read_csv(\"housing.csv\")\n",
    "df"
   ]
  },
  {
   "cell_type": "code",
   "execution_count": null,
   "id": "66366cf9",
   "metadata": {},
   "outputs": [],
   "source": [
    "df.columns"
   ]
  },
  {
   "cell_type": "code",
   "execution_count": null,
   "id": "c4d7a112",
   "metadata": {},
   "outputs": [],
   "source": [
    "df[\"YrSold\"].value_counts()"
   ]
  },
  {
   "cell_type": "code",
   "execution_count": null,
   "id": "ad2a64c8",
   "metadata": {},
   "outputs": [],
   "source": [
    "df.columns[df.columns.str.contains(\"Area\")]"
   ]
  },
  {
   "cell_type": "code",
   "execution_count": null,
   "id": "408453db",
   "metadata": {},
   "outputs": [],
   "source": [
    "fig = px.scatter(df, x = \"GrLivArea\", y = \"SalePrice\")\n",
    "fig"
   ]
  },
  {
   "cell_type": "code",
   "execution_count": null,
   "id": "0aa95921",
   "metadata": {},
   "outputs": [],
   "source": [
    "px.scatter(df, x = \"GrLivArea\", y = \"SalePrice\", color = \"OverallQual\")"
   ]
  },
  {
   "cell_type": "code",
   "execution_count": null,
   "id": "cecdfa52",
   "metadata": {},
   "outputs": [],
   "source": [
    "px.scatter(df, x = \"GrLivArea\", y = \"SalePrice\", color = \"OverallQual\",size='LotArea')"
   ]
  },
  {
   "cell_type": "code",
   "execution_count": null,
   "id": "ca25cf75",
   "metadata": {},
   "outputs": [],
   "source": [
    "fig = px.scatter(df, x = \"GrLivArea\", y = \"SalePrice\", trendline = \"ols\",\n",
    "          trendline_color_override=\"black\")\n",
    "fig"
   ]
  },
  {
   "cell_type": "code",
   "execution_count": null,
   "id": "d2efb185",
   "metadata": {},
   "outputs": [],
   "source": [
    "df"
   ]
  },
  {
   "cell_type": "code",
   "execution_count": null,
   "id": "41c12c8c",
   "metadata": {},
   "outputs": [],
   "source": [
    "fig = px.scatter(df, x = \"GrLivArea\", y = \"SalePrice\", trendline = \"lowess\",\n",
    "          trendline_color_override=\"black\")\n",
    "fig"
   ]
  },
  {
   "cell_type": "code",
   "execution_count": null,
   "id": "f1e417c3",
   "metadata": {},
   "outputs": [],
   "source": []
  },
  {
   "cell_type": "code",
   "execution_count": null,
   "id": "394a7544",
   "metadata": {},
   "outputs": [],
   "source": []
  },
  {
   "cell_type": "code",
   "execution_count": null,
   "id": "9a01dc77",
   "metadata": {},
   "outputs": [],
   "source": []
  },
  {
   "cell_type": "markdown",
   "id": "570247ee",
   "metadata": {},
   "source": [
    "# coding_activity_4.1"
   ]
  },
  {
   "cell_type": "markdown",
   "id": "500d4944",
   "metadata": {
    "nbgrader": {
     "grade": false,
     "grade_id": "cell-354110ad294fdabd",
     "locked": true,
     "schema_version": 1,
     "solution": false
    }
   },
   "source": [
    "### Codio Activity 4.1: Basic Joins on Datasets\n",
    "\n",
    "**Expected Time: 60 Minutes**\n",
    "\n",
    "**Total Points: 10 Points**\n",
    "\n",
    "This activity focuses on using the `merge` function to join DataFrame's as seen in Videos 4.1 and 4.2.  Merging DataFrames allows the combination of data along a shared categorical column.  The DataFrames do not need to be the same shape and depending on certain arguments used, the result of a merge can contain different values.  Specifically, using different kinds of joins -- `inner, outer, left, right`, different DataFrames are produced.  \n",
    "\n",
    "## Index:\n",
    "\n",
    "- [Problem 1](#Problem-1)\n",
    "- [Problem 2](#Problem-2)\n",
    "- [Problem 3](#Problem-3)\n",
    "- [Problem 4](#Problem-4)\n",
    "- [Problem 5](#Problem-5)"
   ]
  },
  {
   "cell_type": "markdown",
   "id": "17d316de",
   "metadata": {
    "nbgrader": {
     "grade": false,
     "grade_id": "cell-fbf68e484022d892",
     "locked": true,
     "schema_version": 1,
     "solution": false
    }
   },
   "source": [
    "### The Data: Antarctic Weather Stations\n",
    "\n",
    "The dataset for this activity is four `.csv` files.  The file names and descriptions of the data are as follows:\n",
    "\n",
    "- `person.csv`: people who took readings.\n",
    "- `site.csv`: locations where readings were taken.\n",
    "- `visited.csv`: when readings were taken at specific sites.\n",
    "- `survey.csv`: the actual readings. The field quant is short for quantity and indicates what is being measured. Values are rad, sal, and temp referring to ‘radiation’, ‘salinity’ and ‘temperature’, respectively.\n",
    "\n",
    "Each dataset is loaded below, and basic info displayed."
   ]
  },
  {
   "cell_type": "code",
   "execution_count": null,
   "id": "7b537324",
   "metadata": {
    "nbgrader": {
     "grade": false,
     "grade_id": "cell-939142c86569a4ed",
     "locked": true,
     "schema_version": 1,
     "solution": false
    }
   },
   "outputs": [],
   "source": [
    "site = pd.read_csv('site.csv')"
   ]
  },
  {
   "cell_type": "code",
   "execution_count": null,
   "id": "042d40ca",
   "metadata": {
    "nbgrader": {
     "grade": false,
     "grade_id": "cell-055af1ffb583146c",
     "locked": true,
     "schema_version": 1,
     "solution": false
    }
   },
   "outputs": [],
   "source": [
    "site.head(2)"
   ]
  },
  {
   "cell_type": "code",
   "execution_count": null,
   "id": "8038c629",
   "metadata": {
    "nbgrader": {
     "grade": false,
     "grade_id": "cell-065abae480af3cca",
     "locked": true,
     "schema_version": 1,
     "solution": false
    }
   },
   "outputs": [],
   "source": [
    "site.info()"
   ]
  },
  {
   "cell_type": "code",
   "execution_count": null,
   "id": "a98ae34a",
   "metadata": {
    "nbgrader": {
     "grade": false,
     "grade_id": "cell-2bef615c044cc365",
     "locked": true,
     "schema_version": 1,
     "solution": false
    }
   },
   "outputs": [],
   "source": [
    "visited = pd.read_csv('visited.csv')"
   ]
  },
  {
   "cell_type": "code",
   "execution_count": null,
   "id": "b45f48d8",
   "metadata": {
    "nbgrader": {
     "grade": false,
     "grade_id": "cell-2ccdf5ff4162d9a7",
     "locked": true,
     "schema_version": 1,
     "solution": false
    }
   },
   "outputs": [],
   "source": [
    "visited.head(2)"
   ]
  },
  {
   "cell_type": "code",
   "execution_count": null,
   "id": "82455dd0",
   "metadata": {
    "nbgrader": {
     "grade": false,
     "grade_id": "cell-43c560fe484b1323",
     "locked": true,
     "schema_version": 1,
     "solution": false
    }
   },
   "outputs": [],
   "source": [
    "visited.info()"
   ]
  },
  {
   "cell_type": "code",
   "execution_count": null,
   "id": "f81d1f8e",
   "metadata": {
    "nbgrader": {
     "grade": false,
     "grade_id": "cell-15f5bdde07356ce5",
     "locked": true,
     "schema_version": 1,
     "solution": false
    }
   },
   "outputs": [],
   "source": [
    "person = pd.read_csv('person.csv')\n",
    "person.head(2)"
   ]
  },
  {
   "cell_type": "code",
   "execution_count": null,
   "id": "4a94f5ec",
   "metadata": {
    "nbgrader": {
     "grade": false,
     "grade_id": "cell-1c0960bd7c1f4000",
     "locked": true,
     "schema_version": 1,
     "solution": false
    }
   },
   "outputs": [],
   "source": [
    "survey = pd.read_csv('survey.csv')\n",
    "survey.head(2)"
   ]
  },
  {
   "cell_type": "code",
   "execution_count": null,
   "id": "094eb144",
   "metadata": {
    "nbgrader": {
     "grade": false,
     "grade_id": "cell-fdf723155cdb59c7",
     "locked": true,
     "schema_version": 1,
     "solution": false
    }
   },
   "outputs": [],
   "source": [
    "survey.info()"
   ]
  },
  {
   "cell_type": "markdown",
   "id": "8e4fb470",
   "metadata": {
    "nbgrader": {
     "grade": false,
     "grade_id": "cell-2cc8eafd85568457",
     "locked": true,
     "schema_version": 1,
     "solution": false
    }
   },
   "source": [
    "[Back to top](#Index:) \n",
    "\n",
    "### Problem 1\n",
    "\n",
    "#### Merging site and visited\n",
    "\n",
    "**5 Points**\n",
    "\n",
    "Note that in the `site` data the `name` column is the same information as in the `visited` data `name` column.  Use  `pd.merge` to merge the `site` DataFame with the `visited` one based on the shared column.  Use `site` as your left DataFrame and `visited` as your right.  Assign your result as a DataFrame to `site_visits_df` below."
   ]
  },
  {
   "cell_type": "code",
   "execution_count": null,
   "id": "009e4c3d",
   "metadata": {
    "nbgrader": {
     "grade": false,
     "grade_id": "cell-c291ddf4dbdf92c8",
     "locked": false,
     "schema_version": 1,
     "solution": true
    }
   },
   "outputs": [],
   "source": [
    "### GRADED\n",
    "\n",
    "site_visits_df = None\n",
    "\n",
    "### BEGIN SOLUTION\n",
    "site_visits_df = pd.merge(site, visited, left_on='name', right_on='site')\n",
    "type(site_visits_df)\n",
    "### END SOLUTION\n",
    "\n",
    "# Answer check\n",
    "print(type(site_visits_df), site_visits_df.shape)\n",
    "site_visits_df.head()\n"
   ]
  },
  {
   "cell_type": "markdown",
   "id": "d0994f8f",
   "metadata": {
    "nbgrader": {
     "grade": false,
     "grade_id": "cell-5df0218f63430dd4",
     "locked": true,
     "schema_version": 1,
     "solution": false
    }
   },
   "source": [
    "[Back to top](#Index:) \n",
    "\n",
    "### Problem 2\n",
    "\n",
    "#### Revisit with shared Column Name\n",
    "\n",
    "**5 Points**\n",
    "\n",
    "\n",
    "Use the `rename` function to rename the `visited` `site` column to `name` and assign it to the variable `visited_renamed`.\n",
    "\n",
    "Merge the `site` and the `visited_renamed` datafames on `name` and assign the result of the merge to `site_visits_df2` below.  \n",
    "\n",
    "Note that your solution should have one column fewer than the solution to Problem 1."
   ]
  },
  {
   "cell_type": "code",
   "execution_count": null,
   "id": "7795e1a5",
   "metadata": {
    "nbgrader": {
     "grade": false,
     "grade_id": "cell-53dd859c6dc5a027",
     "locked": false,
     "schema_version": 1,
     "solution": true
    }
   },
   "outputs": [],
   "source": [
    "### GRADED\n",
    "\n",
    "visited_renamed = None\n",
    "site_visits_df2 = None\n",
    "\n",
    "### BEGIN SOLUTION\n",
    "visited_renamed = visited.rename({'site': 'name'}, axis = 1)\n",
    "site_visits_df2 = pd.merge(site, visited_renamed, on = 'name')\n",
    "### END SOLUTION\n",
    "\n",
    "# Answer check\n",
    "print(site_visits_df2.shape)\n",
    "site_visits_df2.head()"
   ]
  },
  {
   "cell_type": "markdown",
   "id": "bca4fcf3",
   "metadata": {
    "nbgrader": {
     "grade": false,
     "grade_id": "cell-84e1faffcfa8772f",
     "locked": true,
     "schema_version": 1,
     "solution": false
    }
   },
   "source": [
    "[Back to top](#Index:) \n",
    "\n",
    "### Problem 3\n",
    "\n",
    "#### Merging the Survey Results\n",
    "\n",
    "**5 Points**\n",
    "\n",
    "The effect of merging the `site` and `visited` is that a DataFrame with each sites name, location, visit id, and date has been created. \n",
    "\n",
    "To include the data collected at each site in these visits, the survey data needs to be consulted.  \n",
    "\n",
    "Identify the shared column in the `site_visits_df2` data and the `survey` data, and merge the data based on this column.  \n",
    "\n",
    "Rename the column in the `survey` frame from `taken` to `id` not to have a reduntant column in the data and assign your merged DataFrame to `survey_site_visits` below."
   ]
  },
  {
   "cell_type": "code",
   "execution_count": null,
   "id": "6cebb78b",
   "metadata": {
    "nbgrader": {
     "grade": false,
     "grade_id": "cell-57ab5accf3fb170d",
     "locked": true,
     "schema_version": 1,
     "solution": false
    }
   },
   "outputs": [],
   "source": [
    "site_visits_df2.head(2)"
   ]
  },
  {
   "cell_type": "code",
   "execution_count": null,
   "id": "f61c6914",
   "metadata": {
    "nbgrader": {
     "grade": false,
     "grade_id": "cell-a13102fe6c43518b",
     "locked": true,
     "schema_version": 1,
     "solution": false
    }
   },
   "outputs": [],
   "source": [
    "survey.head(2)"
   ]
  },
  {
   "cell_type": "code",
   "execution_count": null,
   "id": "d007ad9a",
   "metadata": {
    "nbgrader": {
     "grade": false,
     "grade_id": "cell-88cfbb769a581192",
     "locked": false,
     "schema_version": 1,
     "solution": true
    }
   },
   "outputs": [],
   "source": [
    "### GRADED\n",
    "\n",
    "survey_site_visits = None\n",
    "\n",
    "### BEGIN SOLUTION\n",
    "survey_site_visits = pd.merge(survey.rename({'taken': 'id'}, axis = 1), \n",
    "                              site_visits_df2, on = 'id')\n",
    "### END SOLUTION\n",
    "\n",
    "# Answer check\n",
    "display(survey_site_visits)\n",
    "print(type(survey_site_visits))"
   ]
  },
  {
   "cell_type": "markdown",
   "id": "fa9b70d4",
   "metadata": {
    "nbgrader": {
     "grade": false,
     "grade_id": "cell-9e9f9b3f2cdfcb6d",
     "locked": true,
     "schema_version": 1,
     "solution": false
    }
   },
   "source": [
    "[Back to top](#Index:) \n",
    "\n",
    "### Problem 4\n",
    "\n",
    "### Adding Full Names\n",
    "\n",
    "**5 Points**\n",
    "\n",
    "Use the `rename` function to rename the `survey_site_visits` `person` column to `person_id` and assign it to the variable `left`.\n",
    "\n",
    "Use the `rename` function to rename the `person` `id` column to `person_id` and assign it to the variable `right`.\n",
    "\n",
    "Merge the `left` and the `right` datafames on `person_id` and assign the result of the merge to `full_name_df`. below.  \n"
   ]
  },
  {
   "cell_type": "code",
   "execution_count": null,
   "id": "70b23fec",
   "metadata": {
    "nbgrader": {
     "grade": false,
     "grade_id": "cell-5eb0b993d2f7e755",
     "locked": false,
     "schema_version": 1,
     "solution": true
    }
   },
   "outputs": [],
   "source": [
    "### GRADED\n",
    "\n",
    "full_name_df = None\n",
    "\n",
    "### BEGIN SOLUTION\n",
    "left = survey_site_visits.rename({'person': 'person_id'}, axis = 1)\n",
    "right = person.rename({'id': 'person_id'}, axis = 1)\n",
    "full_name_df = pd.merge(left, right, on = 'person_id')\n",
    "### END SOLUTION\n",
    "\n",
    "# Answer check\n",
    "print(type(full_name_df))\n",
    "full_name_df.head(2)"
   ]
  },
  {
   "cell_type": "markdown",
   "id": "161b1b5f",
   "metadata": {
    "nbgrader": {
     "grade": false,
     "grade_id": "cell-d8aa95ba8e65eff0",
     "locked": true,
     "schema_version": 1,
     "solution": false
    }
   },
   "source": [
    "[Back to top](#Index:) \n",
    "\n",
    "### Problem 5\n",
    "\n",
    "#### `left` vs. `right` merge\n",
    "\n",
    "**5 Points**\n",
    "\n",
    "Below two new DataFrames -- `df1` and `df2` -- are created with the shared column `name`.  Note the different unique values in the `name` column in each.  Use `pd.merge` and choose the appropriate argument for `how` as either `left` or `right` to create the following table:\n",
    "\n",
    "<table border=\"1\" class=\"dataframe\">  <thead>    <tr style=\"text-align: right;\">      <th></th>      <th>name</th>      <th>age</th>      <th>member</th>    </tr>  </thead>  <tbody>    <tr>      <th>0</th>      <td>amy</td>      <td>32</td>      <td>True</td>    </tr>    <tr>      <th>1</th>      <td>ben</td>      <td>30</td>      <td>NaN</td>    </tr>    <tr>      <th>2</th>      <td>carlos</td>      <td>40</td>      <td>True</td>    </tr>  </tbody></table>\n",
    "\n",
    "Assign your results to `ans5` below."
   ]
  },
  {
   "cell_type": "code",
   "execution_count": null,
   "id": "21ca660d",
   "metadata": {
    "nbgrader": {
     "grade": false,
     "grade_id": "cell-9a1174962aa1833b",
     "locked": true,
     "schema_version": 1,
     "solution": false
    }
   },
   "outputs": [],
   "source": [
    "df1 = pd.DataFrame({'name': ['amy', 'ben', 'carlos'],\n",
    "                   'age': [32, 30, 40]})\n",
    "df2 = pd.DataFrame({'name': ['amy', 'carlos', 'lenny'],\n",
    "                   'member': [True, True, False]})"
   ]
  },
  {
   "cell_type": "code",
   "execution_count": null,
   "id": "42aacdf3",
   "metadata": {
    "nbgrader": {
     "grade": false,
     "grade_id": "cell-0fcb95eabc8646f0",
     "locked": false,
     "schema_version": 1,
     "solution": true
    }
   },
   "outputs": [],
   "source": [
    "### GRADED\n",
    "\n",
    "ans5 = None\n",
    "\n",
    "### BEGIN SOLUTION\n",
    "ans5 = pd.merge(df1, df2, how = 'left', on = 'name')\n",
    "### END SOLUTION\n",
    "\n",
    "# Answer check\n",
    "print(type(ans5))\n",
    "ans5.head(2)"
   ]
  },
  {
   "cell_type": "code",
   "execution_count": null,
   "id": "af18dd29",
   "metadata": {},
   "outputs": [],
   "source": []
  },
  {
   "cell_type": "markdown",
   "id": "559fc399",
   "metadata": {},
   "source": [
    "# coding_activity_4.2"
   ]
  },
  {
   "cell_type": "markdown",
   "id": "a4f3c217",
   "metadata": {
    "nbgrader": {
     "grade": false,
     "grade_id": "cell-f39384a7d88ab3ff",
     "locked": true,
     "schema_version": 1,
     "solution": false
    }
   },
   "source": [
    "### Codio Activity 4.2: Complex Joins on Datasets\n",
    "\n",
    "**Expected Time: 60 Minutes**\n",
    "\n",
    "**Total Points: 10**\n",
    "\n",
    "![](images/kiva.png)\n",
    "\n",
    "This assignment focuses on using pandas `merge` to answer questions using multiple data sources.  Here you will combine data and use many of the earlier `pandas` methods together with the `merge` function to extract insights from our data source.  The data comes from the Kiva loan provider organization and was part of a kaggle Data Science for good contest [here](https://www.kaggle.com/kiva/data-science-for-good-kiva-crowdfunding).\n",
    "\n",
    "#### Index:\n",
    "\n",
    "- [Problem 1](#Problem-1)\n",
    "- [Problem 2](#Problem-2)\n",
    "- [Problem 3](#Problem-3)\n",
    "- [Problem 4](#Problem-4)\n",
    "- [Problem 5](#Problem-5)"
   ]
  },
  {
   "cell_type": "markdown",
   "id": "bb841dda",
   "metadata": {
    "nbgrader": {
     "grade": false,
     "grade_id": "cell-e71e1b128fd909de",
     "locked": true,
     "schema_version": 1,
     "solution": false
    }
   },
   "source": [
    "### The Data\n",
    "\n",
    "Kiva allows users to fund loans to small organizations around the world.  The four datasets contain a subset of the data provided on kaggle and describe information on the individual loan, when it was given, where the borrowers were located, and what the loans were being used for.  Below, the data is loaded into four DataFrames and the first two rows of each displayed.  Note the shared `id` column across all four datasets."
   ]
  },
  {
   "cell_type": "code",
   "execution_count": null,
   "id": "43125c26",
   "metadata": {
    "nbgrader": {
     "grade": false,
     "grade_id": "cell-6279f9a688b63708",
     "locked": true,
     "schema_version": 1,
     "solution": false
    }
   },
   "outputs": [],
   "source": [
    "import pandas as pd"
   ]
  },
  {
   "cell_type": "code",
   "execution_count": null,
   "id": "595b9a09",
   "metadata": {
    "nbgrader": {
     "grade": false,
     "grade_id": "cell-86322bdf0dc50289",
     "locked": true,
     "schema_version": 1,
     "solution": false
    }
   },
   "outputs": [],
   "source": [
    "crowdsource = pd.read_csv('crowdsource.csv')\n",
    "crowdsource.head(2)"
   ]
  },
  {
   "cell_type": "code",
   "execution_count": null,
   "id": "63b5be4b",
   "metadata": {
    "nbgrader": {
     "grade": false,
     "grade_id": "cell-82230968cb790dda",
     "locked": true,
     "schema_version": 1,
     "solution": false
    }
   },
   "outputs": [],
   "source": [
    "demographics = pd.read_csv('demographics.csv')\n",
    "demographics.head(2)"
   ]
  },
  {
   "cell_type": "code",
   "execution_count": null,
   "id": "2c73b6ab",
   "metadata": {
    "nbgrader": {
     "grade": false,
     "grade_id": "cell-31297e7068c5831f",
     "locked": true,
     "schema_version": 1,
     "solution": false
    }
   },
   "outputs": [],
   "source": [
    "financials = pd.read_csv('financials.csv')\n",
    "financials.head(2)"
   ]
  },
  {
   "cell_type": "code",
   "execution_count": null,
   "id": "c280dbb4",
   "metadata": {
    "nbgrader": {
     "grade": false,
     "grade_id": "cell-2ebb50994101b895",
     "locked": true,
     "schema_version": 1,
     "solution": false
    }
   },
   "outputs": [],
   "source": [
    "use = pd.read_csv('use.csv')\n",
    "use.head(2)"
   ]
  },
  {
   "cell_type": "markdown",
   "id": "16e519e2",
   "metadata": {
    "nbgrader": {
     "grade": false,
     "grade_id": "cell-8a1101ef968bdddd",
     "locked": true,
     "schema_version": 1,
     "solution": false
    }
   },
   "source": [
    "[Back to top](#Index:) \n",
    "\n",
    "### Problem 1\n",
    "\n",
    "#### Kenyan Loan Amounts\n",
    "\n",
    "**5 Points**\n",
    "\n",
    "\n",
    "Use the `demographics` and `financials` data to determine the average loan amount for the country `Kenya`.  \n",
    "\n",
    "Note that the average loan amount in each country can be calculated by computing the mean of the `funded_amount` column.\n",
    "\n",
    "\n",
    "Save your response as a float to `ans1` below."
   ]
  },
  {
   "cell_type": "code",
   "execution_count": null,
   "id": "b153b24e",
   "metadata": {
    "nbgrader": {
     "grade": false,
     "grade_id": "cell-30ba4362a6bbb79d",
     "locked": false,
     "schema_version": 1,
     "solution": true
    }
   },
   "outputs": [],
   "source": [
    "### GRADED\n",
    "\n",
    "ans1 = None\n",
    "\n",
    "### BEGIN SOLUTION\n",
    "ans1 = pd.merge(demographics.loc[demographics['country'] == 'Kenya'], financials, on = 'id')[['funded_amount']].mean().values[0]\n",
    "type(ans1)\n",
    "### END SOLUTION\n",
    "\n",
    "# Answer check\n",
    "print(ans1)\n",
    "print(type(ans1))"
   ]
  },
  {
   "cell_type": "markdown",
   "id": "b9ff3d32",
   "metadata": {
    "nbgrader": {
     "grade": false,
     "grade_id": "cell-850d79c95dd9419a",
     "locked": true,
     "schema_version": 1,
     "solution": false
    }
   },
   "source": [
    "[Back to top](#Index:) \n",
    "\n",
    "### Problem 2\n",
    "\n",
    "### El Salvador Top Sector\n",
    "\n",
    "**5 Points**\n",
    "\n",
    "Use the `demographics` and `use` datasets to determine the sector of work that received the most loans in `El Salvador`.  \n",
    "\n",
    "Note that the  the sector of work in each country can be calculated by using `value_counts()` on the `sector` column.\n",
    "\n",
    "\n",
    "Assign your result as a string to `ans2` below."
   ]
  },
  {
   "cell_type": "code",
   "execution_count": null,
   "id": "d65254b0",
   "metadata": {
    "nbgrader": {
     "grade": false,
     "grade_id": "cell-4037ebf501493e72",
     "locked": false,
     "schema_version": 1,
     "solution": true
    }
   },
   "outputs": [],
   "source": [
    "### GRADED\n",
    "\n",
    "ans2 = None\n",
    "\n",
    "### BEGIN SOLUTION\n",
    "ans2 = pd.merge(demographics.loc[demographics['country'] == 'El Salvador'], use, on = 'id')['sector'].value_counts().index[0]\n",
    "type(ans2)\n",
    "### END SOLUTION\n",
    "\n",
    "# Answer check\n",
    "display(ans2)\n",
    "print(type(ans2))"
   ]
  },
  {
   "cell_type": "markdown",
   "id": "e3aeec70",
   "metadata": {
    "nbgrader": {
     "grade": false,
     "grade_id": "cell-730d7b85d6989699",
     "locked": true,
     "schema_version": 1,
     "solution": false
    }
   },
   "source": [
    "### Problem 3\n",
    "\n",
    "#### Pakistan Loans in Agriculture\n",
    "\n",
    "**5 Points**\n",
    "\n",
    "\n",
    "Merge the DataFrames `use` and `demographics` on `id`. Assign your result to `p1`.\n",
    "\n",
    "Merge the DataFrames `p1` and `financials` on `id`. Assign your result to `a`.\n",
    "\n",
    "Use `loc` on the `a` DataFrame to select the rows in which `country` is equal to `Pakistan`. Assogn your result to `b`.\n",
    "\n",
    "\n",
    "Determine the total amount of loans (`funded_amount`) for `Agriculture` in Pakistan.  Assign your results as a float to `ans3` below."
   ]
  },
  {
   "cell_type": "code",
   "execution_count": null,
   "id": "d5df6a06",
   "metadata": {
    "nbgrader": {
     "grade": false,
     "grade_id": "cell-00a00bf68209058f",
     "locked": false,
     "schema_version": 1,
     "solution": true
    }
   },
   "outputs": [],
   "source": [
    "### GRADED\n",
    "\n",
    "ans3 = None\n",
    "\n",
    "### BEGIN SOLUTION\n",
    "p1 = pd.merge(use, demographics, on = 'id')\n",
    "a = pd.merge(p1, financials, on = 'id')\n",
    "b = a.loc[a['country'] == 'Pakistan']\n",
    "ans3 = b.loc[b['sector'] == 'Agriculture'][['funded_amount']].sum().values[0]\n",
    "\n",
    "### END SOLUTION\n",
    "\n",
    "# Answer check\n",
    "print(ans3)\n",
    "print(type(ans3))"
   ]
  },
  {
   "cell_type": "markdown",
   "id": "38d79de6",
   "metadata": {
    "nbgrader": {
     "grade": false,
     "grade_id": "cell-7241f3c603d05fbb",
     "locked": true,
     "schema_version": 1,
     "solution": false
    }
   },
   "source": [
    "[Back to top](#Index:) \n",
    "\n",
    "### Problem 4\n",
    "\n",
    "#### Top Total Loan Sector\n",
    "\n",
    "**5 Points**\n",
    "\n",
    "Merge the `financials` and `use` DataFrames on `id`. To this, chain a `groupby()` operation on `sector` and use a double square bracket notation to select the column `funded_amount`.\n",
    "\n",
    "\n",
    "\n",
    "What sector received the most total dollars in funding?  Assign your response as a string to `ans4` below."
   ]
  },
  {
   "cell_type": "code",
   "execution_count": null,
   "id": "0b6e1502",
   "metadata": {
    "nbgrader": {
     "grade": false,
     "grade_id": "cell-a8d7b30a738b7adc",
     "locked": false,
     "schema_version": 1,
     "solution": true
    }
   },
   "outputs": [],
   "source": [
    "### GRADED\n",
    "\n",
    "ans4 = None\n",
    "\n",
    "### BEGIN SOLUTION\n",
    "ans4 = pd.merge(financials, use, on = 'id').groupby('sector')[['funded_amount']].sum().sort_values(by = 'funded_amount', ascending = False).index[0]\n",
    "### END SOLUTION\n",
    "\n",
    "# Answer check\n",
    "print(ans4)\n",
    "print(type(ans4))"
   ]
  },
  {
   "cell_type": "markdown",
   "id": "61118e30",
   "metadata": {
    "nbgrader": {
     "grade": false,
     "grade_id": "cell-061672558861bf9e",
     "locked": true,
     "schema_version": 1,
     "solution": false
    }
   },
   "source": [
    "[Back to top](#Index:) \n",
    "\n",
    "### Problem 5\n",
    "\n",
    "#### Top Loan by Lender Amount\n",
    "\n",
    "**5 Points**\n",
    "\n",
    "Merge the DataFrames `financials` and `use` on `id`. Assign your result to `a`.\n",
    "\n",
    "Merge the DataFrames `a` and `crowdsource` on `id`. Assign your result to `b`.\n",
    "\n",
    "In the `b` DataFrame, create a new column `ratio`. To this column assign the ratio of the columns `funded_amount` and `lender_count` of the `b` DataFrame.\n",
    "\n",
    "\n",
    "Determine which loan sector has the highest ratio of currency to lender amount. Assign the sector with the highest ratio as a string to `ans5` below. "
   ]
  },
  {
   "cell_type": "code",
   "execution_count": null,
   "id": "4acae059",
   "metadata": {
    "nbgrader": {
     "grade": false,
     "grade_id": "cell-1739efe5ab750822",
     "locked": false,
     "schema_version": 1,
     "solution": true
    }
   },
   "outputs": [],
   "source": [
    "### GRADED\n",
    "\n",
    "ans5 = None\n",
    "\n",
    "### BEGIN SOLUTION\n",
    "a = pd.merge(financials, use, on = 'id')\n",
    "b = pd.merge(a, crowdsource, on = 'id')\n",
    "b['ratio'] = b['funded_amount']/b['lender_count']\n",
    "ans5 = b.groupby('sector')['ratio'].max().idxmax()\n",
    "### END SOLUTION\n",
    "\n",
    "# Answer check\n",
    "print(ans5)\n",
    "print(type(ans5))"
   ]
  },
  {
   "cell_type": "code",
   "execution_count": null,
   "id": "94ae065c",
   "metadata": {},
   "outputs": [],
   "source": []
  },
  {
   "cell_type": "markdown",
   "id": "e764e8f6",
   "metadata": {},
   "source": [
    "# coding_activity_4_3"
   ]
  },
  {
   "cell_type": "markdown",
   "id": "f4f09420",
   "metadata": {
    "id": "HK0OTYmFt25d",
    "nbgrader": {
     "grade": false,
     "grade_id": "cell-d59e622d38433ebd",
     "locked": true,
     "schema_version": 1,
     "solution": false
    }
   },
   "source": [
    "### Codio Activity 4.3: Creating Scatterplots, Histograms, and Distribution Plots\n",
    "\n",
    "**Expected Time: 60 Minutes**\n",
    "\n",
    "**Total Points: 12**\n",
    "\n",
    "This activity focuses on using scatterplots to compare GDP and Life Expectancy.  The built in gapminder data offers GDP and Life Expectancy data similar to the videos, and you will use this to produce a scatterplot that contains more than two dimensions of data and an important transformation.\n",
    "\n",
    "\n",
    "## Index:\n",
    "\n",
    "- [Problem 1](#Problem-1)\n",
    "- [Problem 2](#Problem-2)\n",
    "- [Problem 3](#Problem-3)\n",
    "- [Problem 4](#Problem-4)\n",
    "- [Problem 5](#Problem-5)\n",
    "- [Problem 6](#Problem-6)"
   ]
  },
  {
   "cell_type": "code",
   "execution_count": null,
   "id": "489cfd66",
   "metadata": {
    "id": "DqWCQOvUt25f",
    "nbgrader": {
     "grade": false,
     "grade_id": "cell-15f6c1356983be24",
     "locked": true,
     "schema_version": 1,
     "solution": false
    }
   },
   "outputs": [],
   "source": [
    "import plotly.express as px\n",
    "import matplotlib.pyplot as plt\n",
    "import seaborn as sns\n",
    "import numpy as np\n",
    "import pandas as pd"
   ]
  },
  {
   "cell_type": "code",
   "execution_count": null,
   "id": "d3b4ad15",
   "metadata": {
    "id": "Z02JPn5Ft25g",
    "nbgrader": {
     "grade": false,
     "grade_id": "cell-f771b2529aeb006b",
     "locked": true,
     "schema_version": 1,
     "solution": false
    }
   },
   "outputs": [],
   "source": [
    "gapminder = px.data.gapminder()"
   ]
  },
  {
   "cell_type": "code",
   "execution_count": null,
   "id": "3336a14c",
   "metadata": {
    "id": "_1V6GuIwt25h",
    "nbgrader": {
     "grade": false,
     "grade_id": "cell-f7482205e9380b5d",
     "locked": true,
     "schema_version": 1,
     "solution": false
    },
    "outputId": "d6701792-a098-4f5c-84f5-c1265fda825f"
   },
   "outputs": [],
   "source": [
    "gapminder.head()"
   ]
  },
  {
   "cell_type": "markdown",
   "id": "65b36f16",
   "metadata": {
    "id": "uaPBVlQwt25h",
    "nbgrader": {
     "grade": false,
     "grade_id": "cell-784a722317349fd3",
     "locked": true,
     "schema_version": 1,
     "solution": false
    }
   },
   "source": [
    "[Back to top](#Index:) \n",
    "\n",
    "### Problem 1\n",
    "\n",
    "#### Scatter Plot of GDP vs. Life Expectancy\n",
    "\n",
    "\n",
    "Use `plotly` to create a scatter plot of the gapminder data with GDP on the $x$-axis and Life Expectancy on the $y$ axis.  \n",
    "\n",
    "Use the `plt.savefig()` method to save the image as `img1.png` in the `images` folder."
   ]
  },
  {
   "cell_type": "code",
   "execution_count": null,
   "id": "ef5fcb2d",
   "metadata": {
    "nbgrader": {
     "grade": false,
     "grade_id": "cell-e5599457484ba2a1",
     "locked": false,
     "schema_version": 1,
     "solution": true
    }
   },
   "outputs": [],
   "source": [
    "### GRADED\n",
    "\n",
    "### BEGIN SOLUTION\n",
    "px.scatter(data_frame=gapminder, x = 'gdpPercap', y = 'lifeExp')\n",
    "\n",
    "### END SOLUTION"
   ]
  },
  {
   "cell_type": "markdown",
   "id": "1b7f0a24",
   "metadata": {
    "id": "76-NSFGKt25i",
    "nbgrader": {
     "grade": false,
     "grade_id": "cell-6b9e4d2b01c27b92",
     "locked": true,
     "schema_version": 1,
     "solution": false
    }
   },
   "source": [
    "[Back to top](#Index:) \n",
    "\n",
    "### Problem 2\n",
    "\n",
    "#### Scatter Plot of GDP vs. Life Expectancy with Country\n",
    "\n",
    "Use `plotly` to create a scatter plot of the gapminder data with GDP on the $x$-axis and Life Expectancy on the $y$ axis and add color to each point based on the `country` column.  \n",
    "\n",
    "Use the `plt.savefig()` method to save the image as `img2.png` in the `images` folder."
   ]
  },
  {
   "cell_type": "code",
   "execution_count": null,
   "id": "1a583711",
   "metadata": {
    "nbgrader": {
     "grade": false,
     "grade_id": "cell-fd85c14b4b8ad9d1",
     "locked": false,
     "schema_version": 1,
     "solution": true
    }
   },
   "outputs": [],
   "source": [
    "### GRADED\n",
    "\n",
    "### BEGIN SOLUTION\n",
    "px.scatter(data_frame=gapminder, x = 'gdpPercap', y = 'lifeExp', color = 'country')\n",
    "\n",
    "### END SOLUTION\n"
   ]
  },
  {
   "cell_type": "markdown",
   "id": "04c8ebf2",
   "metadata": {
    "id": "XvY6wI-8t25j",
    "nbgrader": {
     "grade": false,
     "grade_id": "cell-46a6868a4856ca91",
     "locked": true,
     "schema_version": 1,
     "solution": false
    }
   },
   "source": [
    "[Back to top](#Index:) \n",
    "\n",
    "### Problem 3\n",
    "\n",
    "#### Incorporating Population\n",
    "\n",
    "Use `plotly` to create a scatter plot of the gapminder data with GDP on the $x$-axis and Life Expectancy on the $y$ axis, add color to each point based on the `country` column and size the points based on the population column.  \n",
    "\n",
    "Use the `plt.savefig()` method to save the image as `img3.png` in the `images` folder."
   ]
  },
  {
   "cell_type": "code",
   "execution_count": null,
   "id": "ad69a21f",
   "metadata": {
    "nbgrader": {
     "grade": false,
     "grade_id": "cell-a74c0af66db441f2",
     "locked": false,
     "schema_version": 1,
     "solution": true
    }
   },
   "outputs": [],
   "source": [
    "### GRADED\n",
    "\n",
    "### BEGIN SOLUTION\n",
    "px.scatter(data_frame=gapminder, x = 'gdpPercap', y = 'lifeExp', color = 'country', size = 'pop')\n",
    "\n",
    "### END SOLUTION"
   ]
  },
  {
   "cell_type": "markdown",
   "id": "94a11b2e",
   "metadata": {
    "id": "qMeAw7Gpt25k",
    "nbgrader": {
     "grade": false,
     "grade_id": "cell-7566c8e00401d5ce",
     "locked": true,
     "schema_version": 1,
     "solution": false
    }
   },
   "source": [
    "[Back to top](#Index:) \n",
    "\n",
    "### Problem 4\n",
    "\n",
    "#### Logarithmic Transformation\n",
    "\n",
    "Use `plotly` to create a scatter plot of the gapminder data with GDP on the $x$-axis and Life Expectancy on the $y$ axis, add color to each point based on the `country` column and size the points based on the population column.    Transform the $x$-axis using the `log_x` argument in the scatter function.  \n",
    "\n",
    "Use the `plt.savefig()` method to save the image as `img3.png` in the `images` folder."
   ]
  },
  {
   "cell_type": "code",
   "execution_count": null,
   "id": "b88e3542",
   "metadata": {
    "nbgrader": {
     "grade": false,
     "grade_id": "cell-c214a7267a684805",
     "locked": false,
     "schema_version": 1,
     "solution": true
    }
   },
   "outputs": [],
   "source": [
    "### GRADED\n",
    "\n",
    "### BEGIN SOLUTION\n",
    "px.scatter(data_frame=gapminder, x = 'gdpPercap', y = 'lifeExp', color = 'country', size = 'pop', log_x=True)\n",
    "\n",
    "### END SOLUTION"
   ]
  },
  {
   "cell_type": "markdown",
   "id": "56f6ed8a",
   "metadata": {
    "id": "P-hMA7qKt25l",
    "nbgrader": {
     "grade": false,
     "grade_id": "cell-9fa46c0d56f606bc",
     "locked": true,
     "schema_version": 1,
     "solution": false
    }
   },
   "source": [
    "[Back to top](#Index:) \n",
    "\n",
    "### Problem 5\n",
    "\n",
    "#### Limit to the year 2007\n",
    "\n",
    "Limit the data to the year 2007 and create a scatterplot of GDP vs. Life Expectancy, color by country, size the points by population and use a logarithmic transform on the x-axis. \n",
    "\n",
    "Use the `plt.savefig()` method to save the image as `img5.png` in the `images` folder."
   ]
  },
  {
   "cell_type": "code",
   "execution_count": null,
   "id": "54fd9a29",
   "metadata": {
    "nbgrader": {
     "grade": false,
     "grade_id": "cell-a82225c0e53055ef",
     "locked": false,
     "schema_version": 1,
     "solution": true
    }
   },
   "outputs": [],
   "source": [
    "### GRADED\n",
    "\n",
    "### BEGIN SOLUTION\n",
    "px.scatter(gapminder.query('year == 2007'), x = 'gdpPercap', y = 'lifeExp', color = 'country', size = 'pop',\n",
    "          log_x = True)\n",
    "\n",
    "### END SOLUTION"
   ]
  },
  {
   "cell_type": "markdown",
   "id": "c7773838",
   "metadata": {
    "id": "s5akrwTNt25l",
    "nbgrader": {
     "grade": false,
     "grade_id": "cell-5c97ec38a415cb71",
     "locked": true,
     "schema_version": 1,
     "solution": false
    }
   },
   "source": [
    "[Back to top](#Index:) \n",
    "\n",
    "### Problem 6\n",
    "\n",
    "#### Boxplots for GDP by Continent\n",
    "\n",
    "Use `plotly` to create boxplots for GDP by continent.  \n",
    "\n",
    "Use the `plt.savefig()` method to save the image as `img5.png` in the `images` folder."
   ]
  },
  {
   "cell_type": "code",
   "execution_count": null,
   "id": "98cb7b6e",
   "metadata": {
    "nbgrader": {
     "grade": false,
     "grade_id": "cell-3b6d09de77118b80",
     "locked": false,
     "schema_version": 1,
     "solution": true
    }
   },
   "outputs": [],
   "source": [
    "### GRADED\n",
    "\n",
    "### BEGIN SOLUTION\n",
    "px.box(data_frame=gapminder, x = 'gdpPercap', color = 'continent')\n",
    "\n",
    "### END SOLUTION"
   ]
  },
  {
   "cell_type": "code",
   "execution_count": null,
   "id": "4b8b2517",
   "metadata": {},
   "outputs": [],
   "source": []
  },
  {
   "cell_type": "markdown",
   "id": "d10f0087",
   "metadata": {},
   "source": [
    "# coding_activity_4_4"
   ]
  },
  {
   "cell_type": "markdown",
   "id": "ed39d5c6",
   "metadata": {
    "id": "zAJ4Wo92zy-j",
    "nbgrader": {
     "grade": false,
     "grade_id": "cell-ae84d0597eaf1d9f",
     "locked": true,
     "schema_version": 1,
     "solution": false
    }
   },
   "source": [
    "### Codio Activity 4.4: Creating Violin, Box, and Joint Plots\n",
    "\n",
    "**Expected Time: 60 Minutes**\n",
    "\n",
    "**Total Points: 20**\n",
    "\n",
    "This activity focuses on producing the plots demonstrated in Video 4.6 and Video 4.7.  Specifically, histograms, Kernel Density Estimate plots, Violin, and Box plots.  The dataset is the `gapminder` data from plotly.  \n",
    "\n",
    "\n",
    "#### Index:\n",
    "\n",
    "- [Problem 1](#Problem-1)\n",
    "- [Problem 2](#Problem-2)\n",
    "- [Problem 3](#Problem-3)\n",
    "- [Problem 4](#Problem-4)\n",
    "- [Problem 5](#Problem-5)\n",
    "- [Problem 6](#Problem-6)\n",
    "- [Problem 7](#Problem-7)\n",
    "- [Problem 8](#Problem-8)\n",
    "- [Problem 9](#Problem-9)\n",
    "- [Problem 10](#Problem-10)\n"
   ]
  },
  {
   "cell_type": "code",
   "execution_count": null,
   "id": "64de8543",
   "metadata": {
    "id": "UWDMcQ5Szy-m",
    "nbgrader": {
     "grade": false,
     "grade_id": "cell-4c7368ea61867270",
     "locked": true,
     "schema_version": 1,
     "solution": false
    }
   },
   "outputs": [],
   "source": [
    "import pandas as pd\n",
    "import plotly.express as px\n",
    "import numpy as np\n",
    "import seaborn as sns\n",
    "import matplotlib.pyplot as plt"
   ]
  },
  {
   "cell_type": "code",
   "execution_count": null,
   "id": "93651d1c",
   "metadata": {
    "id": "ZsTCCheazy-n",
    "nbgrader": {
     "grade": false,
     "grade_id": "cell-49801e50534a6eed",
     "locked": true,
     "schema_version": 1,
     "solution": false
    }
   },
   "outputs": [],
   "source": [
    "gapminder = px.data.gapminder()"
   ]
  },
  {
   "cell_type": "markdown",
   "id": "2dd53cf7",
   "metadata": {
    "id": "AUKIhjaozy-o",
    "nbgrader": {
     "grade": false,
     "grade_id": "cell-56a03e2dc3cb1aa2",
     "locked": true,
     "schema_version": 1,
     "solution": false
    }
   },
   "source": [
    "[Back to top](#Index:) \n",
    "\n",
    "### Problem 1\n",
    "\n",
    "#### Histogram of Life Expectancy with `plotly`\n",
    "\n",
    "**1 point**\n",
    "\n",
    "Create a histogram of the Life Expectancy data using `plotly`.\n",
    "\n",
    "Use the `plt.savefig()` method to save the image as `img1.png` in the `images` folder."
   ]
  },
  {
   "cell_type": "code",
   "execution_count": null,
   "id": "52ab5c53",
   "metadata": {
    "id": "ILUi2qf8zy-o",
    "nbgrader": {
     "grade": false,
     "grade_id": "cell-7241334cc5d6ee4d",
     "locked": false,
     "schema_version": 1,
     "solution": true
    }
   },
   "outputs": [],
   "source": [
    "### GRADED\n",
    "#make a histogram of life expectancy in plotly\n",
    "\n",
    "### BEGIN SOLUTION\n",
    "hist = px.histogram(gapminder, x= 'lifeExp')\n",
    "hist\n",
    "### END SOLUTION"
   ]
  },
  {
   "cell_type": "markdown",
   "id": "2ae85557",
   "metadata": {
    "id": "N1cPw-wfzy-o",
    "nbgrader": {
     "grade": false,
     "grade_id": "cell-55b2f85f8edf4a57",
     "locked": true,
     "schema_version": 1,
     "solution": false
    }
   },
   "source": [
    "[Back to top](#Index:) \n",
    "\n",
    "### Problem 2\n",
    "\n",
    "#### Histogram of Life Expectancy with `seaborn`\n",
    "\n",
    "**2 points**\n",
    "\n",
    "Create a histogram of the Life Expectancy data using `seaborn`. \n",
    "\n",
    "Use the `plt.savefig()` method to save the image as `img2.png` in the `images` folder."
   ]
  },
  {
   "cell_type": "code",
   "execution_count": null,
   "id": "64e385e8",
   "metadata": {
    "id": "hKBpYTlEzy-p",
    "nbgrader": {
     "grade": false,
     "grade_id": "cell-e9205947cf2db122",
     "locked": false,
     "schema_version": 1,
     "solution": true
    }
   },
   "outputs": [],
   "source": [
    "### GRADED\n",
    "#make a histogram in seaborn\n",
    "\n",
    "### BEGIN SOLUTION\n",
    "sns.histplot(data=gapminder, x=\"lifeExp\")\n",
    "\n",
    "### END SOLUTION"
   ]
  },
  {
   "cell_type": "markdown",
   "id": "f76e2093",
   "metadata": {
    "id": "cm2khL9mzy-p",
    "nbgrader": {
     "grade": false,
     "grade_id": "cell-74968c7e7e079938",
     "locked": true,
     "schema_version": 1,
     "solution": false
    }
   },
   "source": [
    "[Back to top](#Index:) \n",
    "\n",
    "### Problem 3\n",
    "\n",
    "#### Histogram and KDE of Life Expectancy with `seaborn` \n",
    "\n",
    "**2 Points**\n",
    "\n",
    "Create a histogram with the KDE of the Life Expectancy data using `seaborn`.\n",
    "\n",
    "Use the `plt.savefig()` method to save the image as `img3.png` in the `images` folder."
   ]
  },
  {
   "cell_type": "code",
   "execution_count": null,
   "id": "7c2dfa46",
   "metadata": {
    "id": "TAa5weRkzy-q",
    "nbgrader": {
     "grade": false,
     "grade_id": "cell-d6b67f55b7b850e5",
     "locked": false,
     "schema_version": 1,
     "solution": true
    }
   },
   "outputs": [],
   "source": [
    "### GRADED\n",
    "#make a kde plot in seaborn\n",
    "\n",
    "### BEGIN SOLUTION\n",
    "sns.displot(data=gapminder, x=\"lifeExp\", kde=True)\n",
    "\n",
    "### END SOLUTION"
   ]
  },
  {
   "cell_type": "markdown",
   "id": "5b426da5",
   "metadata": {
    "id": "2HYELSRSzy-q",
    "nbgrader": {
     "grade": false,
     "grade_id": "cell-75053d1bd2a91d1f",
     "locked": true,
     "schema_version": 1,
     "solution": false
    }
   },
   "source": [
    "[Back to top](#Index:) \n",
    "\n",
    "### Problem 4\n",
    "\n",
    "#### Histogram, KDE, and rugplot of Life Expectancy with `seaborn`\n",
    "\n",
    "**2 points**\n",
    "\n",
    "Create a histogram and KDE of the Life Expectancy data along with the rugplot using `seaborn`.\n",
    "\n",
    "Use the `plt.savefig()` method to save the image as `img4.png` in the `images` folder."
   ]
  },
  {
   "cell_type": "code",
   "execution_count": null,
   "id": "788e683b",
   "metadata": {
    "id": "mfSjR1eFzy-r",
    "nbgrader": {
     "grade": false,
     "grade_id": "cell-87ce30f6af7fa833",
     "locked": false,
     "schema_version": 1,
     "solution": true
    }
   },
   "outputs": [],
   "source": [
    "### GRADED\n",
    "#make a rug plot with seaborn\n",
    "\n",
    "### BEGIN SOLUTION\n",
    "sns.displot(data=gapminder, x=\"lifeExp\", kde=True)\n",
    "sns.rugplot(data=gapminder, x=\"lifeExp\")\n",
    "\n",
    "### END SOLUTION"
   ]
  },
  {
   "cell_type": "markdown",
   "id": "eb121df5",
   "metadata": {
    "id": "vpS6vQzQzy-r",
    "nbgrader": {
     "grade": false,
     "grade_id": "cell-3f4ae451cf8d7624",
     "locked": true,
     "schema_version": 1,
     "solution": false
    }
   },
   "source": [
    "[Back to top](#Index:) \n",
    "\n",
    "### Problem 5\n",
    "\n",
    "#### Violin Plot of Life Expectancy with `plotly`\n",
    "\n",
    "**1 point**\n",
    "\n",
    "Create a Violin Plot of the Life Expectancy data using `plotly`. \n",
    "\n",
    "Use the `plt.savefig()` method to save the image as `img5.png` in the `images` folder."
   ]
  },
  {
   "cell_type": "code",
   "execution_count": null,
   "id": "ffea0669",
   "metadata": {
    "id": "fxH8-o3Dzy-r",
    "nbgrader": {
     "grade": false,
     "grade_id": "cell-8794e1e21ff303d9",
     "locked": false,
     "schema_version": 1,
     "solution": true
    }
   },
   "outputs": [],
   "source": [
    "### GRADED\n",
    "#create a violin plot with plotly\n",
    "\n",
    "### BEGIN SOLUTION\n",
    "fig = px.violin(gapminder, y='lifeExp')\n",
    "fig\n",
    "### END SOLUTION"
   ]
  },
  {
   "cell_type": "markdown",
   "id": "0de4c6af",
   "metadata": {
    "id": "2oS_LHqKzy-r",
    "nbgrader": {
     "grade": false,
     "grade_id": "cell-7eb99e2fa41f42b5",
     "locked": true,
     "schema_version": 1,
     "solution": false
    }
   },
   "source": [
    "[Back to top](#Index:) \n",
    "\n",
    "### Problem 6\n",
    "\n",
    "#### Violin Plot with points of Life Expectancy with `plotly`\n",
    "\n",
    "**1 point**\n",
    "\n",
    "Create a Violin Plot of the Life Expectancy data alongside the actual points using `plotly`. \n",
    "\n",
    "Use the `plt.savefig()` method to save the image as `img6.png` in the `images` folder."
   ]
  },
  {
   "cell_type": "code",
   "execution_count": null,
   "id": "539b22c9",
   "metadata": {
    "id": "F04LI1Suzy-s",
    "nbgrader": {
     "grade": false,
     "grade_id": "cell-f8f8c6ff09510dad",
     "locked": false,
     "schema_version": 1,
     "solution": true
    }
   },
   "outputs": [],
   "source": [
    "### GRADED\n",
    "#violin in plotly with points = \"all\"\n",
    "\n",
    "### BEGIN SOLUTION\n",
    "fig = px.violin(gapminder, y='lifeExp',points = 'all')\n",
    "fig\n",
    "#plt.savefig('images/img6.png')\n",
    "### END SOLUTION"
   ]
  },
  {
   "cell_type": "markdown",
   "id": "d2ab2db2",
   "metadata": {
    "id": "GLCcp7vRzy-s",
    "nbgrader": {
     "grade": false,
     "grade_id": "cell-bd578ffbf7432e3d",
     "locked": true,
     "schema_version": 1,
     "solution": false
    }
   },
   "source": [
    "[Back to top](#Index:) \n",
    "\n",
    "### Problem 7\n",
    "\n",
    "#### Violin Plot of Life Expectancy by Continent with `plotly`\n",
    "\n",
    "**1 point**\n",
    "\n",
    "Create a Violin Plot of the Life Expectancy by continent using `plotly`.\n",
    "\n",
    "Use the `plt.savefig()` method to save the image as `img7.png` in the `images` folder."
   ]
  },
  {
   "cell_type": "code",
   "execution_count": null,
   "id": "8e53c3c8",
   "metadata": {
    "id": "rqe73f87zy-s",
    "nbgrader": {
     "grade": false,
     "grade_id": "cell-2f4b047022f05d4f",
     "locked": false,
     "schema_version": 1,
     "solution": true
    }
   },
   "outputs": [],
   "source": [
    "### GRADED\n",
    "#violin plot by continent in plotly\n",
    "\n",
    "### BEGIN SOLUTION\n",
    "fig = px.violin(gapminder, x='continent',y='lifeExp')\n",
    "fig\n",
    "#plt.savefig('images/img7.png')\n",
    "### END SOLUTION"
   ]
  },
  {
   "cell_type": "markdown",
   "id": "b330df0b",
   "metadata": {
    "id": "fu1v8qMLzy-s",
    "nbgrader": {
     "grade": false,
     "grade_id": "cell-26cc088231eb7759",
     "locked": true,
     "schema_version": 1,
     "solution": false
    }
   },
   "source": [
    "[Back to top](#Index:) \n",
    "\n",
    "### Problem 8\n",
    "\n",
    "#### Violin Plot of Life Expectancy by Continent with `seaborn`\n",
    "\n",
    "**2 Points**\n",
    "\n",
    "Create a Violin Plot of the Life Expectancy by continent using `seaborn`. Note that you will set your `x` argument to continent and `y` to lifeExp.\n",
    "\n",
    "Use the `plt.savefig()` method to save the image as `img8.png` in the `images` folder."
   ]
  },
  {
   "cell_type": "code",
   "execution_count": null,
   "id": "4ed1385d",
   "metadata": {
    "id": "XelL8qv7zy-s",
    "nbgrader": {
     "grade": false,
     "grade_id": "cell-52f75f79c300d520",
     "locked": false,
     "schema_version": 1,
     "solution": true
    }
   },
   "outputs": [],
   "source": [
    "### GRADED\n",
    "#violin plot by continent in seaborn\n",
    "\n",
    "### BEGIN SOLUTION\n",
    "sns.violinplot(x=\"continent\", y=\"lifeExp\", data=gapminder)\n",
    "\n",
    "#plt.savefig('images/img8.png')\n",
    "### END SOLUTION"
   ]
  },
  {
   "cell_type": "markdown",
   "id": "8c67052f",
   "metadata": {
    "id": "fJqXJsjlzy-t",
    "nbgrader": {
     "grade": false,
     "grade_id": "cell-238e109528ce4c39",
     "locked": true,
     "schema_version": 1,
     "solution": false
    }
   },
   "source": [
    "[Back to top](#Index:) \n",
    "\n",
    "### Problem 9\n",
    "\n",
    "#### Box Plot of Life Expectancy by Continent with `plotly`\n",
    "\n",
    "**2 points**\n",
    "\n",
    "Create a Box Plot of the Life Expectancy by continent using `plotly`. \n",
    "\n",
    "Use the `plt.savefig()` method to save the image as `img9.png` in the `images` folder."
   ]
  },
  {
   "cell_type": "code",
   "execution_count": null,
   "id": "f02ad1bd",
   "metadata": {
    "id": "U3lpaXV0zy-t",
    "nbgrader": {
     "grade": false,
     "grade_id": "cell-484b0007f129a8ca",
     "locked": false,
     "schema_version": 1,
     "solution": true
    }
   },
   "outputs": [],
   "source": [
    "### GRADED\n",
    "#boxplot by continent with plotly with y = lifeExp\n",
    "\n",
    "### BEGIN SOLUTION\n",
    "fig = px.box(gapminder,x=\"continent\", y=\"lifeExp\")\n",
    "fig\n",
    "#plt.savefig('images/img9.png')\n",
    "### END SOLUTION"
   ]
  },
  {
   "cell_type": "markdown",
   "id": "41b4a01a",
   "metadata": {
    "id": "eEH3Bevczy-t",
    "nbgrader": {
     "grade": false,
     "grade_id": "cell-85eacc443cd92a9e",
     "locked": true,
     "schema_version": 1,
     "solution": false
    }
   },
   "source": [
    "[Back to top](#Index:) \n",
    "\n",
    "### Problem 10\n",
    "\n",
    "#### Box Plot of Life Expectancy by Continent with `seaborn`\n",
    "\n",
    "**2 Points**\n",
    "\n",
    "Create a Box Plot of the Life Expectancy by continent using `seaborn`. Note that you will set your `x` argument to continent and `y` to lifeExp. \n",
    "\n",
    "Use the `plt.savefig()` method to save the image as `img10.png` in the `images` folder."
   ]
  },
  {
   "cell_type": "code",
   "execution_count": null,
   "id": "4d1780f8",
   "metadata": {
    "id": "At3XKFrhzy-t",
    "nbgrader": {
     "grade": false,
     "grade_id": "cell-3ead57085468a0a1",
     "locked": false,
     "schema_version": 1,
     "solution": true
    }
   },
   "outputs": [],
   "source": [
    "### GRADED\n",
    "#seaborn boxplot by continent\n",
    "\n",
    "### BEGIN SOLUTION\n",
    "sns.boxplot(x=\"continent\", y=\"lifeExp\", data=gapminder)\n",
    "\n",
    "#plt.savefig('images/img10.png')\n",
    "### END SOLUTION"
   ]
  },
  {
   "cell_type": "markdown",
   "id": "55119440",
   "metadata": {},
   "source": [
    "# coding_activity_4.5"
   ]
  },
  {
   "cell_type": "markdown",
   "id": "43af662c",
   "metadata": {
    "nbgrader": {
     "grade": false,
     "grade_id": "cell-c95102d8e7bccebf",
     "locked": true,
     "schema_version": 1,
     "solution": false
    }
   },
   "source": [
    "### Codio Activity 4.5: String Operations\n",
    "\n",
    "\n",
    "**Expected Time: 60 Minutes**\n",
    "\n",
    "**Total Points: 20**\n",
    "\n",
    "\n",
    "For this activity, you will focus on using string methods on `pandas` series.  Following the examples from video 4.8, a Wikipedia page on the states of the russian federation will be the dataset.  Below is a map of the boundaries for the states. \n",
    "\n",
    "#### Index:\n",
    "\n",
    "- [Problem 1](#Problem-1)\n",
    "- [Problem 2](#Problem-2)\n",
    "- [Problem 3](#Problem-3)\n",
    "- [Problem 4](#Problem-4)\n",
    "\n",
    "![](https://upload.wikimedia.org/wikipedia/commons/thumb/7/7d/Map_of_federal_subjects_of_Russia_%282014%29.svg/1380px-Map_of_federal_subjects_of_Russia_%282014%29.svg.png)"
   ]
  },
  {
   "cell_type": "markdown",
   "id": "d4b2515c",
   "metadata": {
    "nbgrader": {
     "grade": false,
     "grade_id": "cell-b5e784a8664a2700",
     "locked": true,
     "schema_version": 1,
     "solution": false
    }
   },
   "source": [
    "### Getting the Data\n",
    "\n",
    "Below, we access the data directly using the url and the `read_html` method from `pandas`.  This method reads any table from a web url in as a list of dataframes.  The data we are interested in is located in the fifth table on the page so we index the list of data accordingly below."
   ]
  },
  {
   "cell_type": "code",
   "execution_count": null,
   "id": "56220126",
   "metadata": {
    "nbgrader": {
     "grade": false,
     "grade_id": "cell-8d2ffb96c4c2827e",
     "locked": true,
     "schema_version": 1,
     "solution": false
    }
   },
   "outputs": [],
   "source": [
    "import pandas as pd"
   ]
  },
  {
   "cell_type": "code",
   "execution_count": null,
   "id": "e7788ef1",
   "metadata": {
    "nbgrader": {
     "grade": false,
     "grade_id": "cell-c3929c64c7e703b0",
     "locked": true,
     "schema_version": 1,
     "solution": false
    }
   },
   "outputs": [],
   "source": [
    "russian_states = pd.read_csv('russian_states.csv', index_col = 0)"
   ]
  },
  {
   "cell_type": "code",
   "execution_count": null,
   "id": "bb50d8b9",
   "metadata": {
    "nbgrader": {
     "grade": false,
     "grade_id": "cell-987d4e6af2127f01",
     "locked": true,
     "schema_version": 1,
     "solution": false
    }
   },
   "outputs": [],
   "source": [
    "russian_states.head()"
   ]
  },
  {
   "cell_type": "markdown",
   "id": "8b85cf9c",
   "metadata": {
    "nbgrader": {
     "grade": false,
     "grade_id": "cell-4698aa034b05d664",
     "locked": true,
     "schema_version": 1,
     "solution": false
    }
   },
   "source": [
    "[Back to top](#Index:) \n",
    "\n",
    "### Problem 1\n",
    "\n",
    "#### Using the `contains` method\n",
    "\n",
    "**5 Points**\n",
    "\n",
    "Use the string method `contains` to subset the data based on entries in the `Economic region` column containing `Siberian`.  Assign your response as a DataFrame to `ans1` below."
   ]
  },
  {
   "cell_type": "code",
   "execution_count": null,
   "id": "6a20565b",
   "metadata": {
    "nbgrader": {
     "grade": false,
     "grade_id": "cell-69b100fd1408e91a",
     "locked": false,
     "schema_version": 1,
     "solution": true
    }
   },
   "outputs": [],
   "source": [
    "### GRADED\n",
    "\n",
    "ans1 = None\n",
    "\n",
    "### BEGIN SOLUTION\n",
    "ans1 = russian_states.loc[russian_states['Economic region'].str.contains(\"Siberian\")]\n",
    "type(ans1)\n",
    "### END SOLUTION\n",
    "\n",
    "# Answer check\n",
    "print(ans1.shape)\n",
    "ans1.head()"
   ]
  },
  {
   "cell_type": "markdown",
   "id": "f138a3a2",
   "metadata": {
    "nbgrader": {
     "grade": false,
     "grade_id": "cell-60249eaf5d390430",
     "locked": true,
     "schema_version": 1,
     "solution": false
    }
   },
   "source": [
    "[Back to top](#Index:) \n",
    "\n",
    "### Problem 2\n",
    "\n",
    "#### Using the `startswith` method\n",
    "\n",
    "**5 Points**\n",
    "\n",
    "Subset the data based on entries in the `Economic region` column that start with `North`.  Assign your answer as a DataFrame to `ans2` below."
   ]
  },
  {
   "cell_type": "code",
   "execution_count": null,
   "id": "3920342e",
   "metadata": {
    "nbgrader": {
     "grade": false,
     "grade_id": "cell-0f898f719d53e4c3",
     "locked": false,
     "schema_version": 1,
     "solution": true
    }
   },
   "outputs": [],
   "source": [
    "### GRADED\n",
    "\n",
    "ans2 = None\n",
    "\n",
    "### BEGIN SOLUTION\n",
    "ans2 = russian_states.loc[russian_states['Economic region'].str.startswith('North')]\n",
    "type(ans2)\n",
    "### END SOLUTION\n",
    "\n",
    "# Answer check\n",
    "print(ans2.shape)\n",
    "ans2.head()"
   ]
  },
  {
   "cell_type": "markdown",
   "id": "016867d7",
   "metadata": {
    "nbgrader": {
     "grade": false,
     "grade_id": "cell-03e6e3e859cf241c",
     "locked": true,
     "schema_version": 1,
     "solution": false
    }
   },
   "source": [
    "[Back to top](#Index:) \n",
    "\n",
    "### Problem 3: Using the `upper` method\n",
    "\n",
    "**5 Points**\n",
    "\n",
    "Use the `upper` method to create a series where the entries in the `Federal district` column all uppercased.  Assign your response as a Series to `ans3` below."
   ]
  },
  {
   "cell_type": "code",
   "execution_count": null,
   "id": "e4353dde",
   "metadata": {
    "nbgrader": {
     "grade": false,
     "grade_id": "cell-228226682431b099",
     "locked": false,
     "schema_version": 1,
     "solution": true
    }
   },
   "outputs": [],
   "source": [
    "### GRADED\n",
    "\n",
    "ans3 = None\n",
    "\n",
    "### BEGIN SOLUTION\n",
    "ans3 = russian_states['Federal district'].str.upper()\n",
    "type(ans3)\n",
    "### END SOLUTION\n",
    "\n",
    "# Answer check\n",
    "print(type(ans3))\n",
    "ans3.head()"
   ]
  },
  {
   "cell_type": "markdown",
   "id": "2b340ae4",
   "metadata": {
    "nbgrader": {
     "grade": false,
     "grade_id": "cell-e3bde681d79f5ea7",
     "locked": true,
     "schema_version": 1,
     "solution": false
    }
   },
   "source": [
    "[Back to top](#Index:) \n",
    "\n",
    "### Problem 4\n",
    "\n",
    "#### Examining the Population\n",
    "\n",
    "**5 Points**\n",
    " \n",
    "\n",
    "Much like the example in the videos, the `Population[17]` column contains problematic characters that need to be replaced before the column can be converted to a float datatype.  Replace the `\\[22\\]`, `\\[23\\]`,and `,` values with empty strings. Finally, convert the `Population[17]` column to `float` datatypes.  \n",
    "\n",
    "Assign the your response as a series to `ans4` below.  "
   ]
  },
  {
   "cell_type": "code",
   "execution_count": null,
   "id": "ac1c844b",
   "metadata": {
    "nbgrader": {
     "grade": false,
     "grade_id": "cell-74ef2f0c657d0393",
     "locked": false,
     "schema_version": 1,
     "solution": true
    }
   },
   "outputs": [],
   "source": [
    "### GRADED\n",
    "\n",
    "ans4 = None\n",
    "\n",
    "### BEGIN SOLUTION\n",
    "#ans4 = russian_states['Population[17]'].str.replace(\"\\[22\\]\", \" \").str.replace(\"\\[23\\]\", \" \").str.replace(',', '').astype('float')\n",
    "#type(ans4)\n",
    "### END SOLUTION\n",
    "\n",
    "# Answer check\n",
    "#print(type(ans4))\n",
    "#ans4.head()\n",
    "\n",
    "russian_states['Population[17]'] = (\n",
    "    russian_states['Population[17]']\n",
    "    .str.replace(r\"\\[.*?\\]\", \"\", regex=True)  # Remove bracketed text using regex\n",
    "    .str.replace(\",\", \"\")  # Remove commas\n",
    "    .astype(float)  # Convert to float\n",
    ")\n",
    "\n",
    "# Check the updated DataFrame\n",
    "russian_states['Population[17]'].head()"
   ]
  },
  {
   "cell_type": "code",
   "execution_count": null,
   "id": "f43b0bab",
   "metadata": {},
   "outputs": [],
   "source": []
  },
  {
   "cell_type": "markdown",
   "id": "f7c35174",
   "metadata": {},
   "source": [
    "# coding_activity_4_6"
   ]
  },
  {
   "cell_type": "markdown",
   "id": "cb9105fa",
   "metadata": {
    "id": "ftL6hwfQ445V",
    "nbgrader": {
     "grade": false,
     "grade_id": "cell-d35f168a30809db9",
     "locked": true,
     "schema_version": 1,
     "solution": false
    }
   },
   "source": [
    "### Codio Activity 4.6: Data Cleaning\n",
    "\n",
    "**Expected Time: 120 Minutes**\n",
    "\n",
    "**Total Points: 40**\n",
    "\n",
    "This assignment focuses on making decisions with a somewhat dirty dataset.  From datatype conversion, to object removal and cleaning, to missing value handling, cleaning data will be a regular activity while working with data in the wild.  The dataset comes from kaggle [here](https://www.kaggle.com/shansh8/companies-info-wikipedia-2021), and represents information on businesses pulled from [dbpedia](http://dbpedia.org) pertaining to business indicators from a variety of international companies.\n",
    "\n",
    "\n",
    "#### Index:\n",
    "\n",
    "- [Problem 1](#Problem-1)\n",
    "- [Problem 2](#Problem-2)\n",
    "- [Problem 3](#Problem-3)\n",
    "- [Problem 4](#Problem-4)\n",
    "- [Problem 5](#Problem-5)\n",
    "- [Problem 6](#Problem-6)\n",
    "- [Problem 7](#Problem-7)\n",
    "- [Problem 8](#Problem-8)\n",
    "- [Problem 9](#Problem-9)\n",
    "\n",
    "\n",
    "![](images/dbpedia.png)"
   ]
  },
  {
   "cell_type": "markdown",
   "id": "28ee4694",
   "metadata": {
    "id": "vdAbQOh8445Y",
    "nbgrader": {
     "grade": false,
     "grade_id": "cell-8e421dff8fd70bf6",
     "locked": true,
     "schema_version": 1,
     "solution": false
    }
   },
   "source": [
    "### Load and Explore the Data"
   ]
  },
  {
   "cell_type": "code",
   "execution_count": null,
   "id": "d490b346",
   "metadata": {
    "id": "juT1hNzn445Y",
    "nbgrader": {
     "grade": false,
     "grade_id": "cell-52ebd3b716455a24",
     "locked": true,
     "schema_version": 1,
     "solution": false
    }
   },
   "outputs": [],
   "source": [
    "import pandas as pd\n",
    "import numpy as np\n",
    "import matplotlib.pyplot as plt\n",
    "import seaborn as sns\n",
    "import plotly.express as px"
   ]
  },
  {
   "cell_type": "code",
   "execution_count": null,
   "id": "1f06293c",
   "metadata": {
    "id": "zMNMtwpq445Z",
    "nbgrader": {
     "grade": false,
     "grade_id": "cell-383a235c8c985da7",
     "locked": true,
     "schema_version": 1,
     "solution": false
    }
   },
   "outputs": [],
   "source": [
    "#df = pd.read_csv('data/biz.zip', compression = 'zip')"
   ]
  },
  {
   "cell_type": "code",
   "execution_count": null,
   "id": "616a8133",
   "metadata": {
    "id": "axBGcumv445Z",
    "nbgrader": {
     "grade": false,
     "grade_id": "cell-742213f8754d3374",
     "locked": true,
     "schema_version": 1,
     "solution": false
    },
    "outputId": "e7efeb47-8ccd-4360-9cf5-a57c86d865e5"
   },
   "outputs": [],
   "source": [
    "#df.head()"
   ]
  },
  {
   "cell_type": "code",
   "execution_count": null,
   "id": "ad80b938",
   "metadata": {
    "id": "fFQfeeKZ445a",
    "nbgrader": {
     "grade": false,
     "grade_id": "cell-09e0d00249bee5f9",
     "locked": true,
     "schema_version": 1,
     "solution": false
    },
    "outputId": "0d5241ff-31df-486c-c874-6b228344da27"
   },
   "outputs": [],
   "source": [
    "#df.info()"
   ]
  },
  {
   "cell_type": "markdown",
   "id": "7fdb9623",
   "metadata": {
    "id": "6HE8r17q445b",
    "nbgrader": {
     "grade": false,
     "grade_id": "cell-8c48a87f34a7596d",
     "locked": true,
     "schema_version": 1,
     "solution": false
    }
   },
   "source": [
    "[Back to top](#Index:) \n",
    "\n",
    "### Problem 1\n",
    "\n",
    "#### Plot of Missing Data\n",
    "\n",
    "**0 Points**\n",
    "\n",
    "Create a barplot using `matplotlib` with the $x$-axis representing the columns and the $y$-axis representing the count of missing values. Sort these values from least to greatest.  Save your plot in the `results` folder as `missing_plot.png`.  "
   ]
  },
  {
   "cell_type": "code",
   "execution_count": null,
   "id": "65a05ad8",
   "metadata": {
    "id": "Dc1MaCKq445b",
    "nbgrader": {
     "grade": false,
     "grade_id": "cell-4a1c203b45b55c66",
     "locked": false,
     "schema_version": 1,
     "solution": true
    }
   },
   "outputs": [],
   "source": [
    "### GRADED\n",
    "\n",
    "### BEGIN SOLUTION\n",
    "#df.isnull().sum().sort_values().plot(kind = 'bar')\n",
    "#plt.savefig('results/missing_plot_.png')\n",
    "#plt.show()\n",
    "### END SOLUTION"
   ]
  },
  {
   "cell_type": "markdown",
   "id": "c0b4bcfd",
   "metadata": {
    "id": "bIp_Q0wc445c",
    "nbgrader": {
     "grade": false,
     "grade_id": "cell-1d2de21ba2fc0b56",
     "locked": true,
     "schema_version": 1,
     "solution": false
    }
   },
   "source": [
    "[Back to top](#Index:) \n",
    "\n",
    "### Problem 2\n",
    "\n",
    "#### `name` column\n",
    "\n",
    "**5 Points**\n",
    "\n",
    "The column `name` has 31 missing values.\n",
    "\n",
    "Subset the data to examine these observations where `name` is missing. Assign the result as a DataFrame to `ans2` below.  "
   ]
  },
  {
   "cell_type": "code",
   "execution_count": null,
   "id": "72da6f65",
   "metadata": {
    "id": "wsNRjtqL445d",
    "nbgrader": {
     "grade": false,
     "grade_id": "cell-09db2b6255b26325",
     "locked": false,
     "schema_version": 1,
     "solution": true
    },
    "outputId": "3103cc6e-7e14-4fba-fab2-55655e4bc521"
   },
   "outputs": [],
   "source": [
    "### GRADED\n",
    "\n",
    "#ans2 = None\n",
    "\n",
    "### BEGIN SOLUTION\n",
    "#ans2 = df.loc[df['name'].isnull()]\n",
    "### END SOLUTION\n",
    "\n",
    "# Answer check\n",
    "#print(type(ans2))\n",
    "#ans2.head()"
   ]
  },
  {
   "cell_type": "markdown",
   "id": "73acab84",
   "metadata": {
    "id": "K6jzBJth445d",
    "nbgrader": {
     "grade": false,
     "grade_id": "cell-f1cdcdc93362810c",
     "locked": true,
     "schema_version": 1,
     "solution": false
    }
   },
   "source": [
    "[Back to top](#Index:) \n",
    "\n",
    "### Problem 3\n",
    "\n",
    "### Filling Missing Values in `name`\n",
    "\n",
    "**5 Points**\n",
    "\n",
    "Examining the rows missing values in names shows that in the adjacent `a` column, the end of the url contains what can stand in as a name.  Using the `split` string method on the column `a` to split the URL by `/`.  \n",
    "\n",
    "Assign your split url's as a series to `ans3` below.\n",
    "\n",
    "This series will be a collection of lists:\n",
    "\n",
    "```python\n",
    "0       [http:, , dbpedia.org, resource, Deutsche_Euro...\n",
    "1       [http:, , dbpedia.org, resource, Deutsche_Euro...\n",
    "2       [http:, , dbpedia.org, resource, Industry_of_M...\n",
    "3       [http:, , dbpedia.org, resource, Industry_of_M...\n",
    "4       [http:, , dbpedia.org, resource, Industry_of_M...\n",
    "         .\n",
    "         .\n",
    "         .\n",
    "```\n",
    "\n"
   ]
  },
  {
   "cell_type": "code",
   "execution_count": null,
   "id": "4113de11",
   "metadata": {
    "id": "lRt2Lur3445e",
    "nbgrader": {
     "grade": false,
     "grade_id": "cell-09278d120062055b",
     "locked": false,
     "schema_version": 1,
     "solution": true
    },
    "outputId": "3f71a06f-a6e3-421f-c67f-1bfe27faaa94"
   },
   "outputs": [],
   "source": [
    "### GRADED\n",
    "\n",
    "#ans3 = None\n",
    "\n",
    "### BEGIN SOLUTION\n",
    "#ans3 = df['a'].str.split('/')\n",
    "### END SOLUTION\n",
    "\n",
    "# Answer check\n",
    "#print(type(ans3))\n",
    "#ans3.head()"
   ]
  },
  {
   "cell_type": "markdown",
   "id": "457b3d4f",
   "metadata": {
    "id": "HylsuIHk445e",
    "nbgrader": {
     "grade": false,
     "grade_id": "cell-0b5102477964152f",
     "locked": true,
     "schema_version": 1,
     "solution": false
    }
   },
   "source": [
    "[Back to top](#Index:) \n",
    "\n",
    "### Problem 4\n",
    "\n",
    "#### Extracting the names\n",
    "\n",
    "**5 Points**\n",
    "\n",
    "To extract the last element of this list, use the `.apply` method together with an appropriate `lambda` function to create a series based on the last entry of the above list in each row.  Your results should begin with:\n",
    "\n",
    "```python\n",
    "0                        Deutsche_EuroShop\n",
    "1                        Deutsche_EuroShop\n",
    "2       Industry_of_Machinery_and_Tractors\n",
    "3       Industry_of_Machinery_and_Tractors\n",
    "4       Industry_of_Machinery_and_Tractors\n",
    "                       ...                \n",
    "```\n",
    "\n",
    "Save this series to `ans4` below."
   ]
  },
  {
   "cell_type": "code",
   "execution_count": null,
   "id": "62ac043c",
   "metadata": {
    "id": "Dm38dElx445f",
    "nbgrader": {
     "grade": false,
     "grade_id": "cell-f3bbb8754a7fc537",
     "locked": false,
     "schema_version": 1,
     "solution": true
    },
    "outputId": "2f2c0a11-7f49-4ca5-d789-2d6a4ef2bcb0"
   },
   "outputs": [],
   "source": [
    "### GRADED\n",
    "\n",
    "#ans4 = None\n",
    "\n",
    "### BEGIN SOLUTION\n",
    "#ans4 = df['a'].str.split('/').apply(lambda x: x[-1])\n",
    "### END SOLUTION\n",
    "\n",
    "# Answer check\n",
    "#print(type(ans4))\n",
    "#ans4.head()"
   ]
  },
  {
   "cell_type": "markdown",
   "id": "6637f40e",
   "metadata": {
    "id": "-nYdpsy5445f",
    "nbgrader": {
     "grade": false,
     "grade_id": "cell-61e4e375d6bc74a8",
     "locked": true,
     "schema_version": 1,
     "solution": false
    }
   },
   "source": [
    "[Back to top](#Index:) \n",
    "\n",
    "### Problem 5\n",
    "\n",
    "#### Filling the Missing Values in `name` \n",
    "\n",
    "**5 Points**\n",
    "\n",
    "The `.fillna` method can accept a series and fill in the missing values based on the matching indicies.  \n",
    "\n",
    "\n",
    "Use the series `ans4` you created in Problem 4 to fill in the missing values in the `name` column. \n",
    "\n",
    "Overwrite the earlier column and create a DataFrame with no missing values in the `name` column and assign this new DataFrame to `ans5` below."
   ]
  },
  {
   "cell_type": "code",
   "execution_count": null,
   "id": "c1cb9e83",
   "metadata": {
    "id": "fKPb31Oj445f",
    "nbgrader": {
     "grade": false,
     "grade_id": "cell-1743f8282f8f8278",
     "locked": false,
     "schema_version": 1,
     "solution": true
    },
    "outputId": "abb95a51-0096-4fc4-8cc9-578fbd82737e"
   },
   "outputs": [],
   "source": [
    "### GRADED\n",
    "\n",
    "#ans5 = None\n",
    "\n",
    "### BEGIN SOLUTION\n",
    "#df['name'] = df['name'].fillna(df['a'].str.split('/').apply(lambda x: x[-1]))\n",
    "#ans5 = df\n",
    "### END SOLUTION\n",
    "\n",
    "# Answer check\n",
    "#print(type(ans5))\n",
    "#ans5['name'].isnull().sum()"
   ]
  },
  {
   "cell_type": "markdown",
   "id": "37cbabf9",
   "metadata": {
    "id": "vgJw9cp2445g",
    "nbgrader": {
     "grade": false,
     "grade_id": "cell-332360f9bd22c7e0",
     "locked": true,
     "schema_version": 1,
     "solution": false
    }
   },
   "source": [
    "[Back to top](#Index:) \n",
    "\n",
    "### Problem 6\n",
    "\n",
    "#### `location` missing values\n",
    "\n",
    "**5 Points**\n",
    "\n",
    "Note that the `location` column is still missing data.  The column is supposed to represent the location of the company as a URL in `dbpedia` or in some cases simply the name of the city the company is located in.  \n",
    "\n",
    "\n",
    "Use the `isnull()` function to count how many missing values ae in the `locatio` columns. Next, use the `value_counts()` function on the `foundation` column.  Assign these counts as a series to `ans6` below."
   ]
  },
  {
   "cell_type": "code",
   "execution_count": null,
   "id": "6910b085",
   "metadata": {
    "id": "zmRZLz1k445g",
    "nbgrader": {
     "grade": false,
     "grade_id": "cell-5be56f660973709a",
     "locked": false,
     "schema_version": 1,
     "solution": true
    },
    "outputId": "c2fde5a9-1d85-4b26-f627-a5fc91155829"
   },
   "outputs": [],
   "source": [
    "### GRADED\n",
    "\n",
    "#ans5 = None\n",
    "\n",
    "### BEGIN SOLUTION\n",
    "#ans6 = df[df['location'].isnull()].foundation.value_counts()\n",
    "### END SOLUTION\n",
    "\n",
    "# Answer check\n",
    "#print(type(ans6))\n",
    "#ans6.head()"
   ]
  },
  {
   "cell_type": "markdown",
   "id": "519dee51",
   "metadata": {
    "id": "NNbSFXyN445g",
    "nbgrader": {
     "grade": false,
     "grade_id": "cell-eae29813fda6f479",
     "locked": true,
     "schema_version": 1,
     "solution": false
    }
   },
   "source": [
    "[Back to top](#Index:) \n",
    "\n",
    "### Problem 7\n",
    "\n",
    "#### Replace missing `location` with `foundation`\n",
    "\n",
    "**5 Points**\n",
    "\n",
    "While not perfect, the values in the `foundation` column could serve as a fill in for the missing values in `location`.  Replace the missing values in `location` with their corresponding value in `foundation`.  Assign the series with the value filled for `location` to `ans7` below."
   ]
  },
  {
   "cell_type": "code",
   "execution_count": null,
   "id": "a77c81cb",
   "metadata": {
    "id": "0u8LqoR3445g",
    "nbgrader": {
     "grade": false,
     "grade_id": "cell-7720836cb0339eb6",
     "locked": false,
     "schema_version": 1,
     "solution": true
    },
    "outputId": "d718aad2-25fb-4443-942c-3425592d00a3"
   },
   "outputs": [],
   "source": [
    "### GRADED\n",
    "\n",
    "#ans7 = None\n",
    "\n",
    "### BEGIN SOLUTION\n",
    "#ans7 = df['location'].fillna(df[df['location'].isnull()]['foundation'])\n",
    "### END SOLUTION\n",
    "\n",
    "# Answer check\n",
    "#print(type(ans7))\n",
    "#ans7"
   ]
  },
  {
   "cell_type": "markdown",
   "id": "1b901d55",
   "metadata": {
    "id": "JY7BdOVp445h",
    "nbgrader": {
     "grade": false,
     "grade_id": "cell-5edc9815da833045",
     "locked": true,
     "schema_version": 1,
     "solution": false
    }
   },
   "source": [
    "[Back to top](#Index:) \n",
    "\n",
    "### Problem 8\n",
    "\n",
    "#### Drop rows missing revenue and profit\n",
    "\n",
    "**5 Points**\n",
    "\n",
    "\n",
    "Note that the `revenue` and `profit` columns do not have all their values.  \n",
    "\n",
    "\n",
    "Use the function `dropna()` on `df` to select the non-null entries in the `subset` with columns `revenue` and `profit`.  \n",
    "\n",
    "Assign you answer as a DataFrame to `ans8` below."
   ]
  },
  {
   "cell_type": "code",
   "execution_count": null,
   "id": "c323e7e7",
   "metadata": {
    "id": "wU7H0h3j445h",
    "nbgrader": {
     "grade": false,
     "grade_id": "cell-9fd2e5625ce24264",
     "locked": false,
     "schema_version": 1,
     "solution": true
    },
    "outputId": "8aa59227-18e6-43ff-8f6a-7cc6500d9a2b"
   },
   "outputs": [],
   "source": [
    "### GRADED\n",
    "\n",
    "#ans8 = None\n",
    "\n",
    "### BEGIN SOLUTION\n",
    "#ans8 = df.dropna(subset = ['revenue', 'profit'])\n",
    "### END SOLUTION\n",
    "\n",
    "# Answer check\n",
    "#print(type(ans8))\n",
    "#ans8.shape"
   ]
  },
  {
   "cell_type": "markdown",
   "id": "cd0fcff5",
   "metadata": {
    "id": "K8DfRlkF445h",
    "nbgrader": {
     "grade": false,
     "grade_id": "cell-589b90ad4fbb3f56",
     "locked": true,
     "schema_version": 1,
     "solution": false
    }
   },
   "source": [
    "[Back to top](#Index:) \n",
    "\n",
    "### Problem 9\n",
    "\n",
    "#### How many rows were lost?\n",
    "\n",
    "**5 Points**\n",
    "\n",
    "Compare the shape of the original dataset to your solution in 8.  How many rows were lost dropping the data?  Assign your answer as an integer to `ans9` below."
   ]
  },
  {
   "cell_type": "code",
   "execution_count": null,
   "id": "f9e5fcfa",
   "metadata": {
    "id": "vnFosrR3445h",
    "nbgrader": {
     "grade": false,
     "grade_id": "cell-9ecfbbbcaf76c9e0",
     "locked": false,
     "schema_version": 1,
     "solution": true
    },
    "outputId": "74ab3609-fdbe-4a98-9925-9da0ef2c2900"
   },
   "outputs": [],
   "source": [
    "### GRADED\n",
    "\n",
    "#ans9 = None\n",
    "\n",
    "### BEGIN SOLUTION\n",
    "#ans9 = df.shape[0] - df.dropna(subset = ['revenue', 'profit']).shape[0]\n",
    "### END SOLUTION\n",
    "\n",
    "# Answer check\n",
    "#print(type(ans9))\n",
    "#ans9"
   ]
  },
  {
   "cell_type": "code",
   "execution_count": null,
   "id": "10c01c07",
   "metadata": {},
   "outputs": [],
   "source": [
    "from nbformat import read\n",
    "\n",
    "# Load the Jupyter notebook file\n",
    "notebook_path = 'BH_MLAI_Class_4.ipynb'\n",
    "with open(notebook_path, 'r', encoding='utf-8') as file:\n",
    "    notebook = read(file, as_version=4)\n",
    "# Count lines of code\n",
    "code_lines = 0\n",
    "for cell in notebook.cells:\n",
    "    if cell.cell_type == 'code':\n",
    "        code_lines += len(cell.source.splitlines())\n",
    "\n",
    "code_lines"
   ]
  },
  {
   "cell_type": "markdown",
   "id": "628ec6c5",
   "metadata": {
    "id": "mFEy29jD445i",
    "nbgrader": {
     "grade": false,
     "grade_id": "cell-169567641aa26992",
     "locked": true,
     "schema_version": 1,
     "solution": false
    }
   },
   "source": [
    "Note that you've lost almost half of our data dropping missing revenue and profit.  Perhaps a different approach should be considered!  Take some time and examine other missing data in our dataset and some strategies for dealing with it.  If it is possible to keep observations do so."
   ]
  }
 ],
 "metadata": {
  "kernelspec": {
   "display_name": "Python 3 (ipykernel)",
   "language": "python",
   "name": "python3"
  },
  "language_info": {
   "codemirror_mode": {
    "name": "ipython",
    "version": 3
   },
   "file_extension": ".py",
   "mimetype": "text/x-python",
   "name": "python",
   "nbconvert_exporter": "python",
   "pygments_lexer": "ipython3",
   "version": "3.11.9"
  }
 },
 "nbformat": 4,
 "nbformat_minor": 5
}
